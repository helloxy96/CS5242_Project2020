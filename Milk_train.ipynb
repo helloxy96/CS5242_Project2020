{
 "cells": [
  {
   "cell_type": "code",
   "execution_count": 4,
   "metadata": {
    "collapsed": true,
    "pycharm": {
     "is_executing": false
    }
   },
   "outputs": [],
   "source": [
    "with open(\"./splits/milk.split.bundle\", \"w\") as new_file:\n",
    "    with open(\"./splits/train.split1.bundle\",\"r\") as cur_file:\n",
    "        new_file.write(\"#bundle\\n\")\n",
    "        while True:\n",
    "            line = cur_file.readline()\n",
    "            if not line:\n",
    "                break\n",
    "            if \"milk\" in line:\n",
    "                new_file.write(line)"
   ]
  },
  {
   "cell_type": "code",
   "execution_count": 1,
   "outputs": [
    {
     "name": "stdout",
     "text": [
      "Finish Load the Training data and labels!!!\n"
     ],
     "output_type": "stream"
    }
   ],
   "source": [
    "from utils.read_datasetBreakfast import load_data, read_mapping_dict\n",
    "import os\n",
    "import numpy as np\n",
    "import torch\n",
    "from Dataset.SegmentDataset import SegmentDataset\n",
    "\n",
    "import torch.utils.data as tud\n",
    "from torch.utils.data.sampler import WeightedRandomSampler\n",
    "\n",
    "#from Models.Conv import model\n",
    "import torch.nn.functional as F\n",
    "from sklearn.metrics import accuracy_score\n",
    "import matplotlib.pyplot as plt\n",
    "import torch.nn as nn\n",
    "from evaluation import evaluation\n",
    "from datetime import datetime\n",
    "import utils.balance_data as b\n",
    "import random\n",
    "\n",
    "COMP_PATH = ''\n",
    "split = 'training'\n",
    "#split = 'test'\n",
    "train_split =  os.path.join(COMP_PATH, 'splits/milk.split.bundle') #Train Split\n",
    "# train_split =  os.path.join(COMP_PATH, 'splits/dev_train.split1.bundle') #Train Split\n",
    "GT_folder   =  os.path.join(COMP_PATH, 'groundTruth/') #Ground Truth Labels for each training video\n",
    "DATA_folder =  os.path.join(COMP_PATH, 'Data/') #Frame I3D features for all videos\n",
    "mapping_loc =  os.path.join(COMP_PATH, 'splits/mapping_bf.txt')\n",
    "\n",
    "actions_dict = read_mapping_dict(mapping_loc)\n",
    "\n",
    "data_feat, data_labels = load_data( train_split, actions_dict, GT_folder, DATA_folder, datatype = split) #"
   ],
   "metadata": {
    "collapsed": false,
    "pycharm": {
     "name": "#%%\n",
     "is_executing": false
    }
   }
  },
  {
   "cell_type": "code",
   "execution_count": 2,
   "outputs": [],
   "source": [
    "milk_data_labels = np.asarray(data_labels)\n",
    "unique_labels = np.unique(milk_data_labels)\n",
    "original_to_milk_label = {}\n",
    "milk_to_original_label = {}\n",
    "counter = 0\n",
    "for i in unique_labels:\n",
    "    original_to_milk_label[int(i)] = counter\n",
    "    milk_to_original_label[counter] = int(i)\n",
    "    milk_data_labels[milk_data_labels == i] = counter\n",
    "    counter += 1"
   ],
   "metadata": {
    "collapsed": false,
    "pycharm": {
     "name": "#%%\n",
     "is_executing": false
    }
   }
  },
  {
   "cell_type": "code",
   "execution_count": 3,
   "outputs": [],
   "source": [
    "train_data_feat = data_feat[:-100]\n",
    "train_data_label = milk_data_labels[:-100]\n",
    "\n",
    "val_data_feat = data_feat[-100:]\n",
    "val_data_label = milk_data_labels[-100:]\n"
   ],
   "metadata": {
    "collapsed": false,
    "pycharm": {
     "name": "#%%\n",
     "is_executing": false
    }
   }
  },
  {
   "cell_type": "code",
   "execution_count": 36,
   "outputs": [],
   "source": [
    "model = nn.Sequential(\n",
    "    nn.Conv1d(400, 256, 3, stride = 2),\n",
    "    nn.BatchNorm1d(256),\n",
    "    nn.ReLU(),\n",
    "\n",
    "    nn.Conv1d(256, 256, 3, stride = 2),   # batch, chnel,w\n",
    "    nn.BatchNorm1d(256),\n",
    "    nn.ReLU(),\n",
    "\n",
    "    nn.Conv1d(256, 256, 3, stride = 2),\n",
    "    nn.BatchNorm1d(256),\n",
    "    nn.ReLU(),\n",
    "\n",
    "    # nn.AdaptiveAvgPool1d(20),\n",
    "    # nn.MaxPool1d(2),\n",
    "\n",
    "    # nn.Conv1d(256, 256, 3, stride = 2),   # batch, chnel,w\n",
    "    # nn.BatchNorm1d(256),\n",
    "    # nn.ReLU(),\n",
    "\n",
    "    # nn.Conv1d(256, 256, 3, stride = 2),\n",
    "    # nn.BatchNorm1d(256),\n",
    "    # nn.ReLU(),\n",
    "\n",
    "    nn.AdaptiveAvgPool1d(20),\n",
    "\n",
    "    nn.Flatten(),   \n",
    "    nn.Linear(5120, 1024), \n",
    "    nn.BatchNorm1d(1024), \n",
    "    nn.ReLU(),\n",
    "\n",
    "    nn.Linear(1024, 256), \n",
    "    nn.BatchNorm1d(256), \n",
    "    nn.ReLU(),\n",
    "\n",
    "    nn.Dropout(0.2),\n",
    "    nn.Linear(256, 4)\n",
    ")"
   ],
   "metadata": {
    "collapsed": false,
    "pycharm": {
     "name": "#%%\n",
     "is_executing": false
    }
   }
  },
  {
   "cell_type": "code",
   "execution_count": 37,
   "outputs": [],
   "source": [
    "cuda_avail = torch.cuda.is_available()\n",
    "device = torch.device(\"cuda\" if cuda_avail else \"cpu\")\n",
    "epochs = 50\n",
    "batch_size = 20\n",
    "\n",
    "learning_rate = 1e-3\n",
    "log_interval = 15\n",
    "valid_interval = 10\n",
    "\n",
    "valid_dataset = SegmentDataset(val_data_feat, val_data_label, seed = 2)\n",
    "valid_dataloader = tud.DataLoader(valid_dataset, \n",
    "    batch_size=batch_size, \n",
    "    shuffle=False)\n",
    "\n",
    "model = model.to(device).double()\n",
    "optimizer = torch.optim.Adam(list(model.parameters()), lr=learning_rate, weight_decay=1e-5)\n",
    "\n",
    "def train(log_interval, model, device, train_loader, optimizer, epoch):\n",
    "    model.train()\n",
    "\n",
    "    losses = []\n",
    "    scores = []\n",
    "    for batch_idx, (in_feature, label) in enumerate(train_loader):\n",
    "        in_feature = in_feature.to(device)\n",
    "        label = label.to(device)\n",
    "\n",
    "        optimizer.zero_grad()\n",
    "        output = model(in_feature)\n",
    "        output = output.view(-1, 4)\n",
    "        label = label.flatten()\n",
    "        loss = F.cross_entropy(output, label)\n",
    "        losses.append(loss.item())\n",
    "        \n",
    "        #step_score = accuracy_score(label.cpu().data.squeeze().numpy(), label_predict.cpu().data.squeeze().numpy())\n",
    "        # bottleneck? \n",
    "        with torch.no_grad():\n",
    "            label_predict = torch.max(output, 1)[1]\n",
    "            correct = (label_predict == label).sum().item()\n",
    "            step_score = correct / len(label)\n",
    "            scores.append(step_score)\n",
    "\n",
    "        loss.backward()\n",
    "        optimizer.step()\n",
    "\n",
    "        if (batch_idx + 1) % log_interval == 0:\n",
    "            print('Train Epoch: {} [{}/{} ({:.0f}%)]\\tLoss: {:.6f}, Accu: {:.2f}%'.format(\n",
    "                epoch + 1, (batch_idx + 1) * batch_size, len(train_loader.dataset),\n",
    "                100. * (batch_idx + 1) / len(train_loader), loss.item(), 100 * step_score))\n",
    "\n",
    "    return losses, scores"
   ],
   "metadata": {
    "collapsed": false,
    "pycharm": {
     "name": "#%%\n",
     "is_executing": false
    }
   }
  },
  {
   "cell_type": "code",
   "execution_count": 38,
   "outputs": [],
   "source": [
    "def evaluation(model, val_dataloader, type='segment'):\n",
    "\n",
    "    predict_labels = []\n",
    "    top_5_predict_labels = []\n",
    "    groundTruth_labels = []\n",
    "    outputs = []\n",
    "\n",
    "    predict_scores = []\n",
    "    top_5_scores = []\n",
    "\n",
    "    model.eval()\n",
    "    for x, labels in val_dataloader:\n",
    "        x, labels = x.to(device), labels.to(device)\n",
    "\n",
    "        with torch.no_grad():\n",
    "            output = model(x).to(device)\n",
    "            output = output.view(-1, 4)\n",
    "            predict_label = torch.max(output, 1)[1]\n",
    "            labels = labels.flatten()\n",
    "            top_5_predict_label = torch.topk(output, k=2, dim=1)[1]\n",
    "            outputs.extend(output.tolist())\n",
    "\n",
    "        top_5_scores.append(torch.sum(top_5_predict_label == labels.unsqueeze(dim=1)).item())\n",
    "        top_5_predict_labels.extend(top_5_predict_label.tolist())\n",
    "\n",
    "\n",
    "        labels = labels.cpu().data.squeeze().numpy()\n",
    "        predict_label = predict_label.long().cpu().data.squeeze().numpy()\n",
    "\n",
    "        # frame check\n",
    "        # print(labels, predict_label, labels)\n",
    "        \n",
    "        if labels.size > 1:\n",
    "            #step_score = accuracy_score(labels, predict_label)\n",
    "            step_score = np.sum(labels == predict_label)\n",
    "        else:\n",
    "            step_score = 1 if labels == predict_label else 0\n",
    "            labels = np.array([labels])\n",
    "            predict_label = np.array([predict_label])\n",
    "            # print(predict_label, labels)\n",
    "\n",
    "        # print('step score', step_score)\n",
    "        predict_scores.append(step_score)\n",
    "        \n",
    "        predict_labels.extend(predict_label.tolist())\n",
    "        groundTruth_labels.extend(labels.tolist())\n",
    "        \n",
    "    seg_acc = sum(predict_scores) / len(predict_labels)\n",
    "    top_5_seg_scc = sum(top_5_scores) / len(predict_labels)\n",
    "\n",
    "        # result\n",
    "    res = {\n",
    "            'seg': {\n",
    "                'acc': seg_acc,\n",
    "                'predict': predict_labels,\n",
    "                'groundTruth': groundTruth_labels,\n",
    "                'output': outputs\n",
    "            }\n",
    "        }\n",
    "\n",
    "    print('valid seg acc:', seg_acc, '\\n')\n",
    "    print('valid top_5_seg_scc:', top_5_seg_scc, '\\n')\n",
    "    return res\n",
    "    "
   ],
   "metadata": {
    "collapsed": false,
    "pycharm": {
     "name": "#%%\n",
     "is_executing": false
    }
   }
  },
  {
   "cell_type": "code",
   "execution_count": 39,
   "outputs": [
    {
     "name": "stdout",
     "text": [
      "Train Epoch: 1 [300/297 (100%)]\tLoss: 0.324135, Accu: 82.35%\n",
      "Train Epoch: 2 [300/297 (100%)]\tLoss: 0.228146, Accu: 88.24%\n",
      "Train Epoch: 3 [300/297 (100%)]\tLoss: 0.282843, Accu: 88.24%\n",
      "Train Epoch: 4 [300/297 (100%)]\tLoss: 0.448529, Accu: 82.35%\n",
      "Train Epoch: 5 [300/297 (100%)]\tLoss: 0.053769, Accu: 100.00%\n",
      "Train Epoch: 6 [300/297 (100%)]\tLoss: 0.056759, Accu: 100.00%\n",
      "Train Epoch: 7 [300/297 (100%)]\tLoss: 0.006768, Accu: 100.00%\n",
      "Train Epoch: 8 [300/297 (100%)]\tLoss: 0.018785, Accu: 100.00%\n",
      "Train Epoch: 9 [300/297 (100%)]\tLoss: 0.114568, Accu: 94.12%\n",
      "Train Epoch: 10 [300/297 (100%)]\tLoss: 0.256872, Accu: 94.12%\n",
      "valid seg acc: 0.8235294117647058 \n",
      "\n",
      "valid top_5_seg_scc: 0.9264705882352942 \n",
      "\n",
      "Train Epoch: 11 [300/297 (100%)]\tLoss: 0.018020, Accu: 100.00%\n",
      "Train Epoch: 12 [300/297 (100%)]\tLoss: 0.039974, Accu: 100.00%\n",
      "Train Epoch: 13 [300/297 (100%)]\tLoss: 0.013577, Accu: 100.00%\n",
      "Train Epoch: 14 [300/297 (100%)]\tLoss: 0.006017, Accu: 100.00%\n",
      "Train Epoch: 15 [300/297 (100%)]\tLoss: 0.006554, Accu: 100.00%\n",
      "Train Epoch: 16 [300/297 (100%)]\tLoss: 0.002312, Accu: 100.00%\n",
      "Train Epoch: 17 [300/297 (100%)]\tLoss: 0.065064, Accu: 94.12%\n",
      "Train Epoch: 18 [300/297 (100%)]\tLoss: 0.008358, Accu: 100.00%\n",
      "Train Epoch: 19 [300/297 (100%)]\tLoss: 0.003912, Accu: 100.00%\n",
      "Train Epoch: 20 [300/297 (100%)]\tLoss: 0.121527, Accu: 94.12%\n",
      "valid seg acc: 0.7647058823529411 \n",
      "\n",
      "valid top_5_seg_scc: 0.9264705882352942 \n",
      "\n",
      "Train Epoch: 21 [300/297 (100%)]\tLoss: 0.013789, Accu: 100.00%\n",
      "Train Epoch: 22 [300/297 (100%)]\tLoss: 0.014511, Accu: 100.00%\n",
      "Train Epoch: 23 [300/297 (100%)]\tLoss: 0.012308, Accu: 100.00%\n",
      "Train Epoch: 24 [300/297 (100%)]\tLoss: 0.004421, Accu: 100.00%\n",
      "Train Epoch: 25 [300/297 (100%)]\tLoss: 0.003720, Accu: 100.00%\n",
      "Train Epoch: 26 [300/297 (100%)]\tLoss: 0.022798, Accu: 100.00%\n",
      "Train Epoch: 27 [300/297 (100%)]\tLoss: 0.001935, Accu: 100.00%\n",
      "Train Epoch: 28 [300/297 (100%)]\tLoss: 0.001576, Accu: 100.00%\n",
      "Train Epoch: 29 [300/297 (100%)]\tLoss: 0.004018, Accu: 100.00%\n",
      "Train Epoch: 30 [300/297 (100%)]\tLoss: 0.126046, Accu: 94.12%\n",
      "valid seg acc: 0.8088235294117647 \n",
      "\n",
      "valid top_5_seg_scc: 0.9558823529411765 \n",
      "\n",
      "Train Epoch: 31 [300/297 (100%)]\tLoss: 0.022873, Accu: 100.00%\n",
      "Train Epoch: 32 [300/297 (100%)]\tLoss: 0.760428, Accu: 76.47%\n",
      "Train Epoch: 33 [300/297 (100%)]\tLoss: 0.040424, Accu: 100.00%\n",
      "Train Epoch: 34 [300/297 (100%)]\tLoss: 0.012470, Accu: 100.00%\n",
      "Train Epoch: 35 [300/297 (100%)]\tLoss: 0.033100, Accu: 100.00%\n",
      "Train Epoch: 36 [300/297 (100%)]\tLoss: 0.010051, Accu: 100.00%\n",
      "Train Epoch: 37 [300/297 (100%)]\tLoss: 0.005438, Accu: 100.00%\n",
      "Train Epoch: 38 [300/297 (100%)]\tLoss: 0.008684, Accu: 100.00%\n",
      "Train Epoch: 39 [300/297 (100%)]\tLoss: 0.002682, Accu: 100.00%\n",
      "Train Epoch: 40 [300/297 (100%)]\tLoss: 0.002571, Accu: 100.00%\n",
      "valid seg acc: 0.8823529411764706 \n",
      "\n",
      "valid top_5_seg_scc: 0.9411764705882353 \n",
      "\n",
      "Train Epoch: 41 [300/297 (100%)]\tLoss: 0.005819, Accu: 100.00%\n",
      "Train Epoch: 42 [300/297 (100%)]\tLoss: 0.001330, Accu: 100.00%\n",
      "Train Epoch: 43 [300/297 (100%)]\tLoss: 0.028629, Accu: 100.00%\n",
      "Train Epoch: 44 [300/297 (100%)]\tLoss: 0.001690, Accu: 100.00%\n",
      "Train Epoch: 45 [300/297 (100%)]\tLoss: 0.211572, Accu: 94.12%\n",
      "Train Epoch: 46 [300/297 (100%)]\tLoss: 0.001395, Accu: 100.00%\n",
      "Train Epoch: 47 [300/297 (100%)]\tLoss: 0.003266, Accu: 100.00%\n",
      "Train Epoch: 48 [300/297 (100%)]\tLoss: 0.022034, Accu: 100.00%\n",
      "Train Epoch: 49 [300/297 (100%)]\tLoss: 0.003955, Accu: 100.00%\n",
      "Train Epoch: 50 [300/297 (100%)]\tLoss: 0.000844, Accu: 100.00%\n",
      "valid seg acc: 0.7794117647058824 \n",
      "\n",
      "valid top_5_seg_scc: 0.9411764705882353 \n",
      "\n",
      "Train Epoch: 51 [300/297 (100%)]\tLoss: 0.001420, Accu: 100.00%\n",
      "Train Epoch: 52 [300/297 (100%)]\tLoss: 0.000861, Accu: 100.00%\n",
      "Train Epoch: 53 [300/297 (100%)]\tLoss: 0.000745, Accu: 100.00%\n",
      "Train Epoch: 54 [300/297 (100%)]\tLoss: 0.395635, Accu: 88.24%\n",
      "Train Epoch: 55 [300/297 (100%)]\tLoss: 0.360487, Accu: 94.12%\n",
      "Train Epoch: 56 [300/297 (100%)]\tLoss: 0.014479, Accu: 100.00%\n",
      "Train Epoch: 57 [300/297 (100%)]\tLoss: 0.047851, Accu: 100.00%\n",
      "Train Epoch: 58 [300/297 (100%)]\tLoss: 0.008484, Accu: 100.00%\n",
      "Train Epoch: 59 [300/297 (100%)]\tLoss: 0.035444, Accu: 100.00%\n",
      "Train Epoch: 60 [300/297 (100%)]\tLoss: 0.000570, Accu: 100.00%\n",
      "valid seg acc: 0.8235294117647058 \n",
      "\n",
      "valid top_5_seg_scc: 0.9411764705882353 \n",
      "\n",
      "Train Epoch: 61 [300/297 (100%)]\tLoss: 0.001284, Accu: 100.00%\n",
      "Train Epoch: 62 [300/297 (100%)]\tLoss: 0.003875, Accu: 100.00%\n",
      "Train Epoch: 63 [300/297 (100%)]\tLoss: 0.005682, Accu: 100.00%\n",
      "Train Epoch: 64 [300/297 (100%)]\tLoss: 0.004790, Accu: 100.00%\n",
      "Train Epoch: 65 [300/297 (100%)]\tLoss: 0.019169, Accu: 100.00%\n",
      "Train Epoch: 66 [300/297 (100%)]\tLoss: 0.046002, Accu: 94.12%\n",
      "Train Epoch: 67 [300/297 (100%)]\tLoss: 0.002359, Accu: 100.00%\n",
      "Train Epoch: 68 [300/297 (100%)]\tLoss: 0.083294, Accu: 94.12%\n",
      "Train Epoch: 69 [300/297 (100%)]\tLoss: 0.000629, Accu: 100.00%\n",
      "Train Epoch: 70 [300/297 (100%)]\tLoss: 0.004073, Accu: 100.00%\n",
      "valid seg acc: 0.7205882352941176 \n",
      "\n",
      "valid top_5_seg_scc: 0.9411764705882353 \n",
      "\n",
      "Train Epoch: 71 [300/297 (100%)]\tLoss: 0.009915, Accu: 100.00%\n",
      "Train Epoch: 72 [300/297 (100%)]\tLoss: 0.000237, Accu: 100.00%\n",
      "Train Epoch: 73 [300/297 (100%)]\tLoss: 0.000351, Accu: 100.00%\n",
      "Train Epoch: 74 [300/297 (100%)]\tLoss: 0.003184, Accu: 100.00%\n",
      "Train Epoch: 75 [300/297 (100%)]\tLoss: 0.000638, Accu: 100.00%\n",
      "Train Epoch: 76 [300/297 (100%)]\tLoss: 0.015279, Accu: 100.00%\n",
      "Train Epoch: 77 [300/297 (100%)]\tLoss: 0.008258, Accu: 100.00%\n",
      "Train Epoch: 78 [300/297 (100%)]\tLoss: 0.000511, Accu: 100.00%\n",
      "Train Epoch: 79 [300/297 (100%)]\tLoss: 0.008258, Accu: 100.00%\n",
      "Train Epoch: 80 [300/297 (100%)]\tLoss: 0.000321, Accu: 100.00%\n",
      "valid seg acc: 0.8382352941176471 \n",
      "\n",
      "valid top_5_seg_scc: 0.9558823529411765 \n",
      "\n",
      "Train Epoch: 81 [300/297 (100%)]\tLoss: 0.000231, Accu: 100.00%\n",
      "Train Epoch: 82 [300/297 (100%)]\tLoss: 0.000843, Accu: 100.00%\n",
      "Train Epoch: 83 [300/297 (100%)]\tLoss: 0.001965, Accu: 100.00%\n",
      "Train Epoch: 84 [300/297 (100%)]\tLoss: 0.054155, Accu: 94.12%\n",
      "Train Epoch: 85 [300/297 (100%)]\tLoss: 0.000206, Accu: 100.00%\n",
      "Train Epoch: 86 [300/297 (100%)]\tLoss: 0.000320, Accu: 100.00%\n",
      "Train Epoch: 87 [300/297 (100%)]\tLoss: 0.000711, Accu: 100.00%\n",
      "Train Epoch: 88 [300/297 (100%)]\tLoss: 0.000634, Accu: 100.00%\n",
      "Train Epoch: 89 [300/297 (100%)]\tLoss: 0.000510, Accu: 100.00%\n",
      "Train Epoch: 90 [300/297 (100%)]\tLoss: 0.012033, Accu: 100.00%\n",
      "valid seg acc: 0.7794117647058824 \n",
      "\n",
      "valid top_5_seg_scc: 0.9264705882352942 \n",
      "\n",
      "Train Epoch: 91 [300/297 (100%)]\tLoss: 0.004602, Accu: 100.00%\n",
      "Train Epoch: 92 [300/297 (100%)]\tLoss: 0.004791, Accu: 100.00%\n",
      "Train Epoch: 93 [300/297 (100%)]\tLoss: 0.003261, Accu: 100.00%\n",
      "Train Epoch: 94 [300/297 (100%)]\tLoss: 0.029051, Accu: 100.00%\n",
      "Train Epoch: 95 [300/297 (100%)]\tLoss: 0.001556, Accu: 100.00%\n",
      "Train Epoch: 96 [300/297 (100%)]\tLoss: 0.001170, Accu: 100.00%\n",
      "Train Epoch: 97 [300/297 (100%)]\tLoss: 0.003612, Accu: 100.00%\n",
      "Train Epoch: 98 [300/297 (100%)]\tLoss: 0.000547, Accu: 100.00%\n",
      "Train Epoch: 99 [300/297 (100%)]\tLoss: 0.001351, Accu: 100.00%\n",
      "Train Epoch: 100 [300/297 (100%)]\tLoss: 0.000528, Accu: 100.00%\n",
      "valid seg acc: 0.7794117647058824 \n",
      "\n",
      "valid top_5_seg_scc: 0.9411764705882353 \n",
      "\n"
     ],
     "output_type": "stream"
    }
   ],
   "source": [
    "epoch_train_losses = []\n",
    "epoch_train_scores = []\n",
    "epoch_test_frame_scores = []\n",
    "epoch_test_seg_scores = []\n",
    "\n",
    "\n",
    "for epoch in range(epochs):\n",
    "    # print('begin balance')        \n",
    "    # new dataset\n",
    "\n",
    "    # 30 pick 1\n",
    "    seed = random.randint(0, 30)\n",
    "    dataset = SegmentDataset(train_data_feat, train_data_label, seed=seed)\n",
    "    dataloader = tud.DataLoader(dataset, \n",
    "        batch_size=batch_size, \n",
    "        shuffle=True\n",
    "    )\n",
    "\n",
    "    train_losses, train_scores = train(log_interval, model, device, dataloader, optimizer, epoch)\n",
    "\n",
    "    epoch_train_losses.append(train_losses)\n",
    "    epoch_train_scores.append(train_scores)\n",
    "\n",
    "    # validation\n",
    "    if (epoch + 1) % valid_interval == 0:\n",
    "        res = evaluation(model, valid_dataloader, type='segment')\n",
    "\n",
    "        # frame result may not exist\n",
    "        if 'frame' in res:\n",
    "            epoch_test_frame_scores.append(res['frame']['acc'])\n",
    "        epoch_test_seg_scores.append(res['seg']['acc'])\n",
    "\n",
    "A = np.array(epoch_train_losses)\n",
    "B = np.array(epoch_train_scores)\n",
    "\n",
    "C = np.array(epoch_test_frame_scores)\n",
    "D = np.array(epoch_test_seg_scores)"
   ],
   "metadata": {
    "collapsed": false,
    "pycharm": {
     "name": "#%%\n",
     "is_executing": false
    }
   }
  },
  {
   "cell_type": "code",
   "execution_count": 15,
   "outputs": [
    {
     "name": "stdout",
     "text": [
      "[0.82352941 0.85294118 0.83823529 0.82352941 0.86764706]\n"
     ],
     "output_type": "stream"
    }
   ],
   "source": [
    "print(D)"
   ],
   "metadata": {
    "collapsed": false,
    "pycharm": {
     "name": "#%%\n",
     "is_executing": false
    }
   }
  },
  {
   "cell_type": "code",
   "execution_count": 40,
   "outputs": [
    {
     "data": {
      "text/plain": "<Figure size 720x288 with 2 Axes>",
      "image/png": "[encoded data removed]"
     },
     "metadata": {
      "needs_background": "light"
     },
     "output_type": "display_data"
    }
   ],
   "source": [
    "import matplotlib.pyplot as plt\n",
    "import numpy as np\n",
    "\n",
    "\n",
    "#C = np.load('./results/lstm/test_loss_2020-03-28.npy')\n",
    "#D = np.load('./results/lstm/test_score_2020-03-29.npy')\n",
    "fig = plt.figure(figsize=(10, 4))\n",
    "plt.subplot(121)\n",
    "#plt.plot(np.arange(1, epochs + 1), A[:, -1])  # train loss (on epoch end)\n",
    "plt.plot(C.flatten())  # train loss (on epoch end)\n",
    "#plt.plot(np.arange(1, epochs + 1), C)  \n",
    "plt.title(\"model loss\")\n",
    "plt.xlabel('epochs')\n",
    "plt.ylabel('loss')\n",
    "plt.legend(['train','test'], loc=\"upper left\")\n",
    "# 2nd figure\n",
    "plt.subplot(122)\n",
    "\n",
    "\n",
    "plt.plot(D.flatten()) # train accuracy (on epoch end)\n",
    "plt.title(\"training scores\")\n",
    "plt.xlabel('epochs')\n",
    "plt.ylabel('accuracy')\n",
    "plt.legend(['train', 'test'], loc=\"upper left\")\n",
    "plt.show()\n"
   ],
   "metadata": {
    "collapsed": false,
    "pycharm": {
     "name": "#%%\n",
     "is_executing": false
    }
   }
  }
 ],
 "metadata": {
  "kernelspec": {
   "display_name": "Python 3",
   "language": "python",
   "name": "python3"
  },
  "language_info": {
   "codemirror_mode": {
    "name": "ipython",
    "version": 2
   },
   "file_extension": ".py",
   "mimetype": "text/x-python",
   "name": "python",
   "nbconvert_exporter": "python",
   "pygments_lexer": "ipython2",
   "version": "2.7.6"
  },
  "pycharm": {
   "stem_cell": {
    "cell_type": "raw",
    "source": [],
    "metadata": {
     "collapsed": false
    }
   }
  }
 },
 "nbformat": 4,
 "nbformat_minor": 0
}