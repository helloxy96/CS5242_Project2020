{
 "cells": [
  {
   "cell_type": "code",
   "execution_count": 15,
   "metadata": {
    "collapsed": true,
    "pycharm": {
     "is_executing": false
    }
   },
   "outputs": [
    {
     "name": "stdout",
     "text": [
      "Finish Load the Training data and labels!!!\n"
     ],
     "output_type": "stream"
    }
   ],
   "source": [
    "from read_datasetBreakfast import load_data, read_mapping_dict\n",
    "import os\n",
    "import numpy as np\n",
    "\n",
    "\n",
    "COMP_PATH = ''\n",
    "\n",
    "''' \n",
    "training to load train set\n",
    "test to load test set\n",
    "'''\n",
    "split = 'training'\n",
    "#split = 'test'\n",
    "train_split =  os.path.join(COMP_PATH, 'splits/dev_train.split1.bundle') #Train Split\n",
    "test_split  =  os.path.join(COMP_PATH, 'splits/test.split1.bundle') #Test Split\n",
    "GT_folder   =  os.path.join(COMP_PATH, 'groundTruth/') #Ground Truth Labels for each training video \n",
    "DATA_folder =  os.path.join(COMP_PATH, 'Data/') #Frame I3D features for all videos\n",
    "mapping_loc =  os.path.join(COMP_PATH, 'splits/mapping_bf.txt') \n",
    "\n",
    "actions_dict = read_mapping_dict(mapping_loc)\n",
    "\n",
    "data_feat, data_labels = load_data( train_split, actions_dict, GT_folder, DATA_folder, datatype = split) #Get features and labels"
   ]
  },
  {
   "cell_type": "code",
   "execution_count": 16,
   "outputs": [],
   "source": [
    "import torch\n",
    "new_data_feat = []\n",
    "new_data_labels = []\n",
    "frames_per_seg = 15\n",
    "for i in range(0, len(data_feat)):\n",
    "    total_frames, dim = data_feat[i].shape\n",
    "    segment_num = int(total_frames / frames_per_seg)\n",
    "    segments = data_feat[i][:segment_num * frames_per_seg].view(-1, frames_per_seg, 400)\n",
    "    labels = torch.LongTensor([data_labels[i][:segment_num * frames_per_seg]]).view(-1, frames_per_seg)\n",
    "    \n",
    "    new_data_feat.append(segments)\n",
    "    new_data_labels.append(labels)\n",
    "    \n",
    "new_data_feat = torch.cat(new_data_feat)\n",
    "new_data_labels = torch.cat(new_data_labels)\n",
    "\n"
   ],
   "metadata": {
    "collapsed": false,
    "pycharm": {
     "name": "#%%\n",
     "is_executing": false
    }
   }
  },
  {
   "cell_type": "code",
   "execution_count": 17,
   "outputs": [],
   "source": [
    "from Dataset.VideoDataset import VideoDataset\n",
    "import torch.utils.data as tud\n",
    "from Models.LSTM import LSTM_Model\n",
    "import torch.nn.functional as F\n",
    "from sklearn.metrics import accuracy_score\n",
    "\n",
    "epochs = 2\n",
    "batch_size = 20\n",
    "\n",
    "dataset = VideoDataset(new_data_feat, new_data_labels)\n",
    "dataloader = tud.DataLoader(dataset, batch_size=batch_size, shuffle=True)\n",
    "\n",
    "model = LSTM_Model()\n",
    "learning_rate = 1e-3\n",
    "log_interval = 50\n",
    "\n",
    "def train(log_interval, model, device, train_loader, optimizer, epoch):\n",
    "    model.train()\n",
    "    \n",
    "    losses = []\n",
    "    scores = []\n",
    "    for batch_idx, (in_feature, label) in enumerate(train_loader):\n",
    "        in_feature = in_feature.to(device)\n",
    "        label = label.to(device)\n",
    "        \n",
    "        optimizer.zero_grad()\n",
    "        output = model(in_feature)\n",
    "        output = output.view(-1, 48)\n",
    "        label = label.flatten()\n",
    "        loss = F.cross_entropy(output, label)\n",
    "        losses.append(loss.item())\n",
    "        \n",
    "        label_predict = torch.max(output, 1)[1]\n",
    "        step_score = accuracy_score(label.cpu().data.squeeze().numpy(), label_predict.cpu().data.squeeze().numpy())\n",
    "        scores.append(step_score)\n",
    "        \n",
    "        loss.backward()\n",
    "        optimizer.step()\n",
    "        \n",
    "        if (batch_idx + 1) % log_interval == 0:\n",
    "            print('Train Epoch: {} [{}/{} ({:.0f}%)]\\tLoss: {:.6f}, Accu: {:.2f}%'.format(\n",
    "                epoch + 1, (batch_idx+1)*batch_size, len(train_loader.dataset), 100. * (batch_idx + 1) / len(train_loader), loss.item(), 100 * step_score))\n",
    "        \n",
    "    return losses, scores"
   ],
   "metadata": {
    "collapsed": false,
    "pycharm": {
     "name": "#%%\n",
     "is_executing": false
    }
   }
  },
  {
   "cell_type": "code",
   "execution_count": 18,
   "outputs": [
    {
     "name": "stdout",
     "text": [
      "Train Epoch: 1 [1000/25045 (4%)]\tLoss: 3.227982, Accu: 17.33%\n",
      "Train Epoch: 1 [2000/25045 (8%)]\tLoss: 3.048983, Accu: 12.33%\n",
      "Train Epoch: 1 [3000/25045 (12%)]\tLoss: 2.737498, Accu: 18.00%\n",
      "Train Epoch: 1 [4000/25045 (16%)]\tLoss: 3.282625, Accu: 17.00%\n",
      "Train Epoch: 1 [5000/25045 (20%)]\tLoss: 2.992332, Accu: 15.67%\n",
      "Train Epoch: 1 [6000/25045 (24%)]\tLoss: 3.133088, Accu: 5.00%\n",
      "Train Epoch: 1 [7000/25045 (28%)]\tLoss: 2.634096, Accu: 15.00%\n",
      "Train Epoch: 1 [8000/25045 (32%)]\tLoss: 2.925687, Accu: 28.00%\n",
      "Train Epoch: 1 [9000/25045 (36%)]\tLoss: 2.600398, Accu: 26.00%\n",
      "Train Epoch: 1 [10000/25045 (40%)]\tLoss: 2.775905, Accu: 20.67%\n",
      "Train Epoch: 1 [11000/25045 (44%)]\tLoss: 2.562516, Accu: 20.67%\n",
      "Train Epoch: 1 [12000/25045 (48%)]\tLoss: 2.648181, Accu: 31.00%\n",
      "Train Epoch: 1 [13000/25045 (52%)]\tLoss: 2.311989, Accu: 15.33%\n",
      "Train Epoch: 1 [14000/25045 (56%)]\tLoss: 2.673244, Accu: 17.00%\n",
      "Train Epoch: 1 [15000/25045 (60%)]\tLoss: 2.508484, Accu: 33.67%\n",
      "Train Epoch: 1 [16000/25045 (64%)]\tLoss: 2.034332, Accu: 32.33%\n",
      "Train Epoch: 1 [17000/25045 (68%)]\tLoss: 2.626405, Accu: 34.33%\n",
      "Train Epoch: 1 [18000/25045 (72%)]\tLoss: 2.079363, Accu: 33.33%\n",
      "Train Epoch: 1 [19000/25045 (76%)]\tLoss: 2.552824, Accu: 21.67%\n",
      "Train Epoch: 1 [20000/25045 (80%)]\tLoss: 2.478603, Accu: 19.00%\n",
      "Train Epoch: 1 [21000/25045 (84%)]\tLoss: 2.530499, Accu: 25.00%\n",
      "Train Epoch: 1 [22000/25045 (88%)]\tLoss: 2.469358, Accu: 24.33%\n",
      "Train Epoch: 1 [23000/25045 (92%)]\tLoss: 2.567228, Accu: 17.67%\n",
      "Train Epoch: 1 [24000/25045 (96%)]\tLoss: 2.179322, Accu: 38.67%\n",
      "Train Epoch: 1 [25000/25045 (100%)]\tLoss: 2.461608, Accu: 44.67%\n",
      "Train Epoch: 2 [1000/25045 (4%)]\tLoss: 2.602829, Accu: 27.33%\n",
      "Train Epoch: 2 [2000/25045 (8%)]\tLoss: 2.368818, Accu: 23.33%\n",
      "Train Epoch: 2 [3000/25045 (12%)]\tLoss: 2.587315, Accu: 23.67%\n",
      "Train Epoch: 2 [4000/25045 (16%)]\tLoss: 2.203400, Accu: 31.00%\n",
      "Train Epoch: 2 [5000/25045 (20%)]\tLoss: 2.443785, Accu: 21.00%\n",
      "Train Epoch: 2 [6000/25045 (24%)]\tLoss: 2.259565, Accu: 35.33%\n",
      "Train Epoch: 2 [7000/25045 (28%)]\tLoss: 2.518669, Accu: 21.00%\n",
      "Train Epoch: 2 [8000/25045 (32%)]\tLoss: 2.611134, Accu: 24.00%\n",
      "Train Epoch: 2 [9000/25045 (36%)]\tLoss: 1.792852, Accu: 50.00%\n",
      "Train Epoch: 2 [10000/25045 (40%)]\tLoss: 2.381122, Accu: 36.00%\n",
      "Train Epoch: 2 [11000/25045 (44%)]\tLoss: 2.003179, Accu: 35.67%\n",
      "Train Epoch: 2 [12000/25045 (48%)]\tLoss: 2.166037, Accu: 24.33%\n",
      "Train Epoch: 2 [13000/25045 (52%)]\tLoss: 1.783850, Accu: 35.67%\n",
      "Train Epoch: 2 [14000/25045 (56%)]\tLoss: 1.984766, Accu: 38.00%\n",
      "Train Epoch: 2 [15000/25045 (60%)]\tLoss: 2.542937, Accu: 33.67%\n",
      "Train Epoch: 2 [16000/25045 (64%)]\tLoss: 2.157334, Accu: 36.33%\n",
      "Train Epoch: 2 [17000/25045 (68%)]\tLoss: 2.133441, Accu: 36.67%\n",
      "Train Epoch: 2 [18000/25045 (72%)]\tLoss: 2.339642, Accu: 24.00%\n",
      "Train Epoch: 2 [19000/25045 (76%)]\tLoss: 1.821866, Accu: 47.33%\n",
      "Train Epoch: 2 [20000/25045 (80%)]\tLoss: 2.347448, Accu: 30.67%\n",
      "Train Epoch: 2 [21000/25045 (84%)]\tLoss: 2.143862, Accu: 37.67%\n",
      "Train Epoch: 2 [22000/25045 (88%)]\tLoss: 1.304470, Accu: 63.00%\n",
      "Train Epoch: 2 [23000/25045 (92%)]\tLoss: 2.021254, Accu: 37.33%\n",
      "Train Epoch: 2 [24000/25045 (96%)]\tLoss: 2.237125, Accu: 32.67%\n",
      "Train Epoch: 2 [25000/25045 (100%)]\tLoss: 2.067061, Accu: 46.33%\n"
     ],
     "output_type": "stream"
    }
   ],
   "source": [
    "cuda_avail = torch.cuda.is_available()\n",
    "device = torch.device(\"cuda\" if cuda_avail else \"cpu\")\n",
    "\n",
    "lstm = LSTM_Model().double().to(device)\n",
    "optimizer = torch.optim.Adam(list(lstm.parameters()), lr=learning_rate)\n",
    "\n",
    "# record training process\n",
    "epoch_train_losses = []\n",
    "epoch_train_scores = []\n",
    "for epoch in range(epochs):\n",
    "    train_losses, train_scores = train(log_interval, lstm, device, dataloader, optimizer, epoch)\n",
    "    \n",
    "    epoch_train_losses.append(train_losses)\n",
    "    epoch_train_scores.append(train_scores)\n",
    "    A = np.array(epoch_train_losses)\n",
    "    B = np.array(epoch_train_scores)\n",
    "    np.save('./training_losses.npy', A)\n",
    "    np.save('./training_scores.npy', B)\n",
    "    "
   ],
   "metadata": {
    "collapsed": false,
    "pycharm": {
     "name": "#%%\n",
     "is_executing": false
    }
   }
  },
  {
   "cell_type": "code",
   "execution_count": 20,
   "outputs": [
    {
     "data": {
      "text/plain": "<Figure size 720x288 with 2 Axes>",
      "image/png": "[encoded data removed]"
     },
     "metadata": {
      "needs_background": "light"
     },
     "output_type": "display_data"
    }
   ],
   "source": [
    "import matplotlib.pyplot as plt\n",
    "fig = plt.figure(figsize=(10, 4))\n",
    "plt.subplot(121)\n",
    "plt.plot(np.arange(1, epochs + 1), A[:, -1])  # train loss (on epoch end)\n",
    "plt.title(\"model loss\")\n",
    "plt.xlabel('epochs')\n",
    "plt.ylabel('loss')\n",
    "plt.legend(['train'], loc=\"upper left\")\n",
    "# 2nd figure\n",
    "plt.subplot(122)\n",
    "plt.plot(np.arange(1, epochs + 1), B[:, -1])  # train accuracy (on epoch end)\n",
    "plt.title(\"training scores\")\n",
    "plt.xlabel('epochs')\n",
    "plt.ylabel('accuracy')\n",
    "plt.legend(['train'], loc=\"upper left\")\n",
    "plt.show()\n",
    "     "
   ],
   "metadata": {
    "collapsed": false,
    "pycharm": {
     "name": "#%%\n",
     "is_executing": false
    }
   }
  }
 ],
 "metadata": {
  "kernelspec": {
   "display_name": "Python 3",
   "language": "python",
   "name": "python3"
  },
  "language_info": {
   "codemirror_mode": {
    "name": "ipython",
    "version": 2
   },
   "file_extension": ".py",
   "mimetype": "text/x-python",
   "name": "python",
   "nbconvert_exporter": "python",
   "pygments_lexer": "ipython2",
   "version": "2.7.6"
  },
  "pycharm": {
   "stem_cell": {
    "cell_type": "raw",
    "source": [],
    "metadata": {
     "collapsed": false
    }
   }
  }
 },
 "nbformat": 4,
 "nbformat_minor": 0
}