{
 "cells": [
  {
   "cell_type": "code",
   "execution_count": 1,
   "metadata": {
    "collapsed": true,
    "pycharm": {
     "is_executing": false
    }
   },
   "outputs": [],
   "source": [
    "TASK_NAME = \"salat\""
   ]
  },
  {
   "cell_type": "code",
   "execution_count": 3,
   "outputs": [],
   "source": [
    "with open(\"./splits/{}.split.bundle\".format(TASK_NAME), \"w\") as new_file:\n",
    "    with open(\"./splits/train.split1.bundle\",\"r\") as cur_file:\n",
    "        new_file.write(\"#bundle\\n\")\n",
    "        while True:\n",
    "            line = cur_file.readline()\n",
    "            if not line:\n",
    "                break\n",
    "            if TASK_NAME in line:\n",
    "                new_file.write(line)\n"
   ],
   "metadata": {
    "collapsed": false,
    "pycharm": {
     "name": "#%%\n",
     "is_executing": false
    }
   }
  },
  {
   "cell_type": "code",
   "execution_count": 4,
   "outputs": [
    {
     "name": "stdout",
     "text": [
      "Finish Load the Training data and labels!!!\n"
     ],
     "output_type": "stream"
    }
   ],
   "source": [
    "from utils.read_datasetBreakfast import load_data, read_mapping_dict\n",
    "import os\n",
    "import numpy as np\n",
    "import torch\n",
    "from Dataset.SegmentDataset import SegmentDataset\n",
    "\n",
    "import torch.utils.data as tud\n",
    "import torch.nn.functional as F\n",
    "import torch.nn as nn\n",
    "import random\n",
    "\n",
    "COMP_PATH = ''\n",
    "split = 'training'\n",
    "#split = 'test'\n",
    "train_split =  os.path.join(COMP_PATH, 'splits/{}.split.bundle'.format(TASK_NAME)) #Train Split\n",
    "GT_folder   =  os.path.join(COMP_PATH, 'groundTruth/') #Ground Truth Labels for each training video\n",
    "DATA_folder =  os.path.join(COMP_PATH, 'Data/') #Frame I3D features for all videos\n",
    "mapping_loc =  os.path.join(COMP_PATH, 'splits/mapping_bf.txt')\n",
    "actions_dict = read_mapping_dict(mapping_loc)\n",
    "data_feat, data_labels = load_data( train_split, actions_dict, GT_folder, DATA_folder, datatype = split) #"
   ],
   "metadata": {
    "collapsed": false,
    "pycharm": {
     "name": "#%%\n",
     "is_executing": false
    }
   }
  },
  {
   "cell_type": "code",
   "execution_count": 5,
   "outputs": [
    {
     "name": "stdout",
     "text": [
      "Label numbers: 7\n",
      "[ 4 14 18 32 33 34 35]\n"
     ],
     "output_type": "stream"
    }
   ],
   "source": [
    "task_data_labels = np.asarray(data_labels)\n",
    "unique_labels = np.unique(task_data_labels)\n",
    "label_nums = len(unique_labels)\n",
    "print(\"Label numbers: \"+ str(label_nums))\n",
    "print(unique_labels)\n",
    "original_to_tasl_label = {}\n",
    "task_to_original_label = {}\n",
    "counter = 0\n",
    "for i in unique_labels:\n",
    "    original_to_tasl_label[int(i)] = counter\n",
    "    task_to_original_label[counter] = int(i)\n",
    "    task_data_labels[task_data_labels == i] = counter\n",
    "    counter += 1"
   ],
   "metadata": {
    "collapsed": false,
    "pycharm": {
     "name": "#%%\n",
     "is_executing": false
    }
   }
  },
  {
   "cell_type": "code",
   "execution_count": 6,
   "outputs": [],
   "source": [
    "import pickle\n",
    "f = open(\"./trained/tasks/dictionary/{}.pkl\".format(TASK_NAME),\"wb\")\n",
    "pickle.dump(task_to_original_label, f)\n",
    "f.close()"
   ],
   "metadata": {
    "collapsed": false,
    "pycharm": {
     "name": "#%%\n",
     "is_executing": false
    }
   }
  },
  {
   "cell_type": "code",
   "execution_count": 7,
   "outputs": [
    {
     "name": "stdout",
     "text": [
      "981\n"
     ],
     "output_type": "stream"
    }
   ],
   "source": [
    "train_data_feat = data_feat[:-100]\n",
    "train_data_label = task_data_labels[:-100]\n",
    "print(len(train_data_feat))\n",
    "\n",
    "val_data_feat = data_feat[-100:]\n",
    "val_data_label = task_data_labels[-100:]"
   ],
   "metadata": {
    "collapsed": false,
    "pycharm": {
     "name": "#%%\n",
     "is_executing": false
    }
   }
  },
  {
   "cell_type": "code",
   "execution_count": 8,
   "outputs": [],
   "source": [
    "model = nn.Sequential(\n",
    "    nn.Conv1d(400, 256, 3, stride = 2),\n",
    "    nn.BatchNorm1d(256),\n",
    "    nn.ReLU(),\n",
    "\n",
    "    nn.Conv1d(256, 256, 3, stride = 2),   # batch, chnel,w\n",
    "    nn.BatchNorm1d(256),\n",
    "    nn.ReLU(),\n",
    "\n",
    "    nn.Conv1d(256, 256, 3, stride = 2),\n",
    "    nn.BatchNorm1d(256),\n",
    "    nn.ReLU(),\n",
    "\n",
    "    nn.AdaptiveAvgPool1d(20),\n",
    "\n",
    "    nn.Flatten(),   \n",
    "    nn.Linear(5120, 1024), \n",
    "    nn.BatchNorm1d(1024), \n",
    "    nn.ReLU(),\n",
    "\n",
    "    nn.Linear(1024, 256), \n",
    "    nn.BatchNorm1d(256), \n",
    "    nn.ReLU(),\n",
    "\n",
    "    nn.Dropout(0.2),\n",
    "    nn.Linear(256, label_nums)\n",
    ")"
   ],
   "metadata": {
    "collapsed": false,
    "pycharm": {
     "name": "#%%\n",
     "is_executing": false
    }
   }
  },
  {
   "cell_type": "code",
   "execution_count": 9,
   "outputs": [],
   "source": [
    "cuda_avail = torch.cuda.is_available()\n",
    "device = torch.device(\"cuda\" if cuda_avail else \"cpu\")\n",
    "epochs = 50\n",
    "batch_size = 20\n",
    "\n",
    "learning_rate = 1e-3\n",
    "log_interval = 15\n",
    "valid_interval = 10\n",
    "\n",
    "valid_dataset = SegmentDataset(val_data_feat, val_data_label, seed = 2)\n",
    "valid_dataloader = tud.DataLoader(valid_dataset, \n",
    "    batch_size=batch_size, \n",
    "    shuffle=False)\n",
    "\n",
    "model = model.to(device).double()\n",
    "optimizer = torch.optim.Adam(list(model.parameters()), lr=learning_rate)\n",
    "\n",
    "def train(log_interval, model, device, train_loader, optimizer, epoch, label_nums):\n",
    "    model.train()\n",
    "\n",
    "    losses = []\n",
    "    scores = []\n",
    "    for batch_idx, (in_feature, label) in enumerate(train_loader):\n",
    "        in_feature = in_feature.to(device)\n",
    "        label = label.to(device)\n",
    "\n",
    "        optimizer.zero_grad()\n",
    "        output = model(in_feature)\n",
    "        output = output.view(-1, label_nums)\n",
    "        label = label.flatten()\n",
    "        loss = F.cross_entropy(output, label)\n",
    "        losses.append(loss.item())\n",
    "        \n",
    "        #step_score = accuracy_score(label.cpu().data.squeeze().numpy(), label_predict.cpu().data.squeeze().numpy())\n",
    "        # bottleneck? \n",
    "        with torch.no_grad():\n",
    "            label_predict = torch.max(output, 1)[1]\n",
    "            correct = (label_predict == label).sum().item()\n",
    "            step_score = correct / len(label)\n",
    "            scores.append(step_score)\n",
    "\n",
    "        loss.backward()\n",
    "        optimizer.step()\n",
    "\n",
    "        if (batch_idx + 1) % log_interval == 0:\n",
    "            print('Train Epoch: {} [{}/{} ({:.0f}%)]\\tLoss: {:.6f}, Accu: {:.2f}%'.format(\n",
    "                epoch + 1, (batch_idx + 1) * batch_size, len(train_loader.dataset),\n",
    "                100. * (batch_idx + 1) / len(train_loader), loss.item(), 100 * step_score))\n",
    "\n",
    "    return losses, scores"
   ],
   "metadata": {
    "collapsed": false,
    "pycharm": {
     "name": "#%%\n",
     "is_executing": false
    }
   }
  },
  {
   "cell_type": "code",
   "execution_count": 10,
   "outputs": [],
   "source": [
    "def evaluation(model, val_dataloader, label_nums):\n",
    "\n",
    "    predict_labels = []\n",
    "    top_5_predict_labels = []\n",
    "    groundTruth_labels = []\n",
    "    outputs = []\n",
    "\n",
    "    predict_scores = []\n",
    "    top_5_scores = []\n",
    "\n",
    "    model.eval()\n",
    "    for x, labels in val_dataloader:\n",
    "        x, labels = x.to(device), labels.to(device)\n",
    "\n",
    "        with torch.no_grad():\n",
    "            output = model(x).to(device)\n",
    "            output = output.view(-1, label_nums)\n",
    "            predict_label = torch.max(output, 1)[1]\n",
    "            labels = labels.flatten()\n",
    "            top_5_predict_label = torch.topk(output, k=2, dim=1)[1]\n",
    "            outputs.extend(output.tolist())\n",
    "\n",
    "        top_5_scores.append(torch.sum(top_5_predict_label == labels.unsqueeze(dim=1)).item())\n",
    "        top_5_predict_labels.extend(top_5_predict_label.tolist())\n",
    "\n",
    "\n",
    "        labels = labels.cpu().data.squeeze().numpy()\n",
    "        predict_label = predict_label.long().cpu().data.squeeze().numpy()\n",
    "\n",
    "        if labels.size > 1:\n",
    "            #step_score = accuracy_score(labels, predict_label)\n",
    "            step_score = np.sum(labels == predict_label)\n",
    "        else:\n",
    "            step_score = 1 if labels == predict_label else 0\n",
    "            labels = np.array([labels])\n",
    "            predict_label = np.array([predict_label])\n",
    "            # print(predict_label, labels)\n",
    "\n",
    "        # print('step score', step_score)\n",
    "        predict_scores.append(step_score)\n",
    "        \n",
    "        predict_labels.extend(predict_label.tolist())\n",
    "        groundTruth_labels.extend(labels.tolist())\n",
    "        \n",
    "    seg_acc = sum(predict_scores) / len(predict_labels)\n",
    "    top_5_seg_scc = sum(top_5_scores) / len(predict_labels)\n",
    "    \n",
    "        # result\n",
    "    res = {\n",
    "            'seg': {\n",
    "                'acc': seg_acc,\n",
    "                'predict': predict_labels,\n",
    "                'groundTruth': groundTruth_labels,\n",
    "                'output': outputs\n",
    "            }\n",
    "        }\n",
    "\n",
    "    print('valid seg acc:', seg_acc, '\\n')\n",
    "    print('valid top_5_seg_scc:', top_5_seg_scc, '\\n')\n",
    "    return res"
   ],
   "metadata": {
    "collapsed": false,
    "pycharm": {
     "name": "#%%\n",
     "is_executing": false
    }
   }
  },
  {
   "cell_type": "code",
   "execution_count": 11,
   "outputs": [
    {
     "name": "stdout",
     "text": [
      "Train Epoch: 1 [300/927 (33%)]\tLoss: 1.149829, Accu: 55.00%\n",
      "Train Epoch: 1 [600/927 (65%)]\tLoss: 1.083213, Accu: 65.00%\n",
      "Train Epoch: 1 [900/927 (98%)]\tLoss: 0.853969, Accu: 65.00%\n",
      "Train Epoch: 2 [300/927 (33%)]\tLoss: 0.975356, Accu: 65.00%\n",
      "Train Epoch: 2 [600/927 (65%)]\tLoss: 1.058558, Accu: 60.00%\n",
      "Train Epoch: 2 [900/927 (98%)]\tLoss: 1.053135, Accu: 60.00%\n",
      "Train Epoch: 3 [300/927 (33%)]\tLoss: 0.317657, Accu: 95.00%\n",
      "Train Epoch: 3 [600/927 (65%)]\tLoss: 0.383097, Accu: 85.00%\n",
      "Train Epoch: 3 [900/927 (98%)]\tLoss: 0.533505, Accu: 80.00%\n",
      "Train Epoch: 4 [300/927 (33%)]\tLoss: 0.401163, Accu: 85.00%\n",
      "Train Epoch: 4 [600/927 (65%)]\tLoss: 0.544086, Accu: 75.00%\n",
      "Train Epoch: 4 [900/927 (98%)]\tLoss: 0.388940, Accu: 85.00%\n",
      "Train Epoch: 5 [300/927 (33%)]\tLoss: 0.268509, Accu: 90.00%\n",
      "Train Epoch: 5 [600/927 (65%)]\tLoss: 0.349169, Accu: 90.00%\n",
      "Train Epoch: 5 [900/927 (98%)]\tLoss: 0.501803, Accu: 75.00%\n",
      "Train Epoch: 6 [300/927 (33%)]\tLoss: 0.271628, Accu: 90.00%\n",
      "Train Epoch: 6 [600/927 (65%)]\tLoss: 0.296798, Accu: 90.00%\n",
      "Train Epoch: 6 [900/927 (98%)]\tLoss: 0.952635, Accu: 65.00%\n",
      "Train Epoch: 7 [300/927 (33%)]\tLoss: 0.522240, Accu: 80.00%\n",
      "Train Epoch: 7 [600/927 (65%)]\tLoss: 0.371205, Accu: 90.00%\n",
      "Train Epoch: 7 [900/927 (98%)]\tLoss: 0.477553, Accu: 75.00%\n",
      "Train Epoch: 8 [300/927 (33%)]\tLoss: 0.621886, Accu: 80.00%\n",
      "Train Epoch: 8 [600/927 (65%)]\tLoss: 0.668076, Accu: 80.00%\n",
      "Train Epoch: 8 [900/927 (98%)]\tLoss: 0.215789, Accu: 90.00%\n",
      "Train Epoch: 9 [300/927 (33%)]\tLoss: 0.316468, Accu: 80.00%\n",
      "Train Epoch: 9 [600/927 (65%)]\tLoss: 0.155322, Accu: 100.00%\n",
      "Train Epoch: 9 [900/927 (98%)]\tLoss: 0.393620, Accu: 90.00%\n",
      "Train Epoch: 10 [300/927 (33%)]\tLoss: 0.195007, Accu: 90.00%\n",
      "Train Epoch: 10 [600/927 (65%)]\tLoss: 0.101751, Accu: 95.00%\n",
      "Train Epoch: 10 [900/927 (98%)]\tLoss: 0.287499, Accu: 95.00%\n",
      "valid seg acc: 0.7083333333333334 \n",
      "\n",
      "valid top_5_seg_scc: 0.9375 \n",
      "\n",
      "Train Epoch: 11 [300/927 (33%)]\tLoss: 0.363601, Accu: 75.00%\n",
      "Train Epoch: 11 [600/927 (65%)]\tLoss: 0.189874, Accu: 90.00%\n",
      "Train Epoch: 11 [900/927 (98%)]\tLoss: 0.166201, Accu: 90.00%\n",
      "Train Epoch: 12 [300/927 (33%)]\tLoss: 0.236801, Accu: 95.00%\n",
      "Train Epoch: 12 [600/927 (65%)]\tLoss: 0.729467, Accu: 75.00%\n",
      "Train Epoch: 12 [900/927 (98%)]\tLoss: 0.353508, Accu: 85.00%\n",
      "Train Epoch: 13 [300/927 (33%)]\tLoss: 0.096263, Accu: 95.00%\n",
      "Train Epoch: 13 [600/927 (65%)]\tLoss: 0.043493, Accu: 100.00%\n",
      "Train Epoch: 13 [900/927 (98%)]\tLoss: 0.317978, Accu: 90.00%\n",
      "Train Epoch: 14 [300/927 (33%)]\tLoss: 0.165082, Accu: 90.00%\n",
      "Train Epoch: 14 [600/927 (65%)]\tLoss: 0.198682, Accu: 95.00%\n",
      "Train Epoch: 14 [900/927 (98%)]\tLoss: 0.146170, Accu: 100.00%\n",
      "Train Epoch: 15 [300/927 (33%)]\tLoss: 0.166391, Accu: 95.00%\n",
      "Train Epoch: 15 [600/927 (65%)]\tLoss: 0.301301, Accu: 85.00%\n",
      "Train Epoch: 15 [900/927 (98%)]\tLoss: 0.193699, Accu: 95.00%\n",
      "Train Epoch: 16 [300/927 (33%)]\tLoss: 0.069696, Accu: 100.00%\n",
      "Train Epoch: 16 [600/927 (65%)]\tLoss: 0.241225, Accu: 90.00%\n",
      "Train Epoch: 16 [900/927 (98%)]\tLoss: 0.242948, Accu: 85.00%\n",
      "Train Epoch: 17 [300/927 (33%)]\tLoss: 0.302280, Accu: 95.00%\n",
      "Train Epoch: 17 [600/927 (65%)]\tLoss: 0.087488, Accu: 100.00%\n",
      "Train Epoch: 17 [900/927 (98%)]\tLoss: 0.068645, Accu: 95.00%\n",
      "Train Epoch: 18 [300/927 (33%)]\tLoss: 0.091739, Accu: 95.00%\n",
      "Train Epoch: 18 [600/927 (65%)]\tLoss: 0.037464, Accu: 100.00%\n",
      "Train Epoch: 18 [900/927 (98%)]\tLoss: 0.545584, Accu: 85.00%\n",
      "Train Epoch: 19 [300/927 (33%)]\tLoss: 0.100900, Accu: 100.00%\n",
      "Train Epoch: 19 [600/927 (65%)]\tLoss: 0.084389, Accu: 95.00%\n",
      "Train Epoch: 19 [900/927 (98%)]\tLoss: 0.079609, Accu: 100.00%\n",
      "Train Epoch: 20 [300/927 (33%)]\tLoss: 0.229005, Accu: 95.00%\n",
      "Train Epoch: 20 [600/927 (65%)]\tLoss: 0.061201, Accu: 100.00%\n",
      "Train Epoch: 20 [900/927 (98%)]\tLoss: 0.349516, Accu: 85.00%\n",
      "valid seg acc: 0.75 \n",
      "\n",
      "valid top_5_seg_scc: 0.9166666666666666 \n",
      "\n",
      "Train Epoch: 21 [300/927 (33%)]\tLoss: 0.009960, Accu: 100.00%\n",
      "Train Epoch: 21 [600/927 (65%)]\tLoss: 0.016113, Accu: 100.00%\n",
      "Train Epoch: 21 [900/927 (98%)]\tLoss: 0.030370, Accu: 100.00%\n",
      "Train Epoch: 22 [300/927 (33%)]\tLoss: 0.358442, Accu: 90.00%\n",
      "Train Epoch: 22 [600/927 (65%)]\tLoss: 0.107196, Accu: 95.00%\n",
      "Train Epoch: 22 [900/927 (98%)]\tLoss: 0.041410, Accu: 100.00%\n",
      "Train Epoch: 23 [300/927 (33%)]\tLoss: 0.080658, Accu: 95.00%\n",
      "Train Epoch: 23 [600/927 (65%)]\tLoss: 0.038027, Accu: 100.00%\n",
      "Train Epoch: 23 [900/927 (98%)]\tLoss: 0.063015, Accu: 100.00%\n",
      "Train Epoch: 24 [300/927 (33%)]\tLoss: 0.016016, Accu: 100.00%\n",
      "Train Epoch: 24 [600/927 (65%)]\tLoss: 0.042784, Accu: 100.00%\n",
      "Train Epoch: 24 [900/927 (98%)]\tLoss: 0.057901, Accu: 95.00%\n",
      "Train Epoch: 25 [300/927 (33%)]\tLoss: 0.020621, Accu: 100.00%\n",
      "Train Epoch: 25 [600/927 (65%)]\tLoss: 0.503422, Accu: 90.00%\n",
      "Train Epoch: 25 [900/927 (98%)]\tLoss: 0.160615, Accu: 95.00%\n",
      "Train Epoch: 26 [300/927 (33%)]\tLoss: 0.038248, Accu: 100.00%\n",
      "Train Epoch: 26 [600/927 (65%)]\tLoss: 0.118177, Accu: 90.00%\n",
      "Train Epoch: 26 [900/927 (98%)]\tLoss: 0.070371, Accu: 95.00%\n",
      "Train Epoch: 27 [300/927 (33%)]\tLoss: 0.043085, Accu: 100.00%\n",
      "Train Epoch: 27 [600/927 (65%)]\tLoss: 0.038634, Accu: 100.00%\n",
      "Train Epoch: 27 [900/927 (98%)]\tLoss: 0.105004, Accu: 90.00%\n",
      "Train Epoch: 28 [300/927 (33%)]\tLoss: 0.076043, Accu: 95.00%\n",
      "Train Epoch: 28 [600/927 (65%)]\tLoss: 0.004435, Accu: 100.00%\n",
      "Train Epoch: 28 [900/927 (98%)]\tLoss: 0.216510, Accu: 95.00%\n",
      "Train Epoch: 29 [300/927 (33%)]\tLoss: 0.044111, Accu: 100.00%\n",
      "Train Epoch: 29 [600/927 (65%)]\tLoss: 0.058328, Accu: 100.00%\n",
      "Train Epoch: 29 [900/927 (98%)]\tLoss: 0.012545, Accu: 100.00%\n",
      "Train Epoch: 30 [300/927 (33%)]\tLoss: 0.011810, Accu: 100.00%\n",
      "Train Epoch: 30 [600/927 (65%)]\tLoss: 0.009816, Accu: 100.00%\n",
      "Train Epoch: 30 [900/927 (98%)]\tLoss: 0.063493, Accu: 100.00%\n",
      "valid seg acc: 0.8020833333333334 \n",
      "\n",
      "valid top_5_seg_scc: 0.9791666666666666 \n",
      "\n",
      "Train Epoch: 31 [300/927 (33%)]\tLoss: 0.044564, Accu: 100.00%\n",
      "Train Epoch: 31 [600/927 (65%)]\tLoss: 0.019318, Accu: 100.00%\n",
      "Train Epoch: 31 [900/927 (98%)]\tLoss: 0.117525, Accu: 95.00%\n",
      "Train Epoch: 32 [300/927 (33%)]\tLoss: 0.213378, Accu: 90.00%\n",
      "Train Epoch: 32 [600/927 (65%)]\tLoss: 0.160939, Accu: 95.00%\n",
      "Train Epoch: 32 [900/927 (98%)]\tLoss: 0.259391, Accu: 90.00%\n",
      "Train Epoch: 33 [300/927 (33%)]\tLoss: 0.276397, Accu: 95.00%\n",
      "Train Epoch: 33 [600/927 (65%)]\tLoss: 0.036252, Accu: 100.00%\n",
      "Train Epoch: 33 [900/927 (98%)]\tLoss: 0.018731, Accu: 100.00%\n",
      "Train Epoch: 34 [300/927 (33%)]\tLoss: 0.118081, Accu: 95.00%\n",
      "Train Epoch: 34 [600/927 (65%)]\tLoss: 0.060786, Accu: 100.00%\n",
      "Train Epoch: 34 [900/927 (98%)]\tLoss: 0.029392, Accu: 100.00%\n",
      "Train Epoch: 35 [300/927 (33%)]\tLoss: 0.047352, Accu: 100.00%\n",
      "Train Epoch: 35 [600/927 (65%)]\tLoss: 0.047746, Accu: 100.00%\n",
      "Train Epoch: 35 [900/927 (98%)]\tLoss: 0.005607, Accu: 100.00%\n",
      "Train Epoch: 36 [300/927 (33%)]\tLoss: 0.180024, Accu: 90.00%\n",
      "Train Epoch: 36 [600/927 (65%)]\tLoss: 0.036101, Accu: 100.00%\n",
      "Train Epoch: 36 [900/927 (98%)]\tLoss: 0.014134, Accu: 100.00%\n",
      "Train Epoch: 37 [300/927 (33%)]\tLoss: 0.064224, Accu: 95.00%\n",
      "Train Epoch: 37 [600/927 (65%)]\tLoss: 0.005884, Accu: 100.00%\n",
      "Train Epoch: 37 [900/927 (98%)]\tLoss: 0.108868, Accu: 95.00%\n",
      "Train Epoch: 38 [300/927 (33%)]\tLoss: 0.097684, Accu: 95.00%\n",
      "Train Epoch: 38 [600/927 (65%)]\tLoss: 0.053734, Accu: 100.00%\n",
      "Train Epoch: 38 [900/927 (98%)]\tLoss: 0.059678, Accu: 95.00%\n",
      "Train Epoch: 39 [300/927 (33%)]\tLoss: 0.006154, Accu: 100.00%\n",
      "Train Epoch: 39 [600/927 (65%)]\tLoss: 0.032613, Accu: 100.00%\n",
      "Train Epoch: 39 [900/927 (98%)]\tLoss: 0.011994, Accu: 100.00%\n",
      "Train Epoch: 40 [300/927 (33%)]\tLoss: 0.020343, Accu: 100.00%\n",
      "Train Epoch: 40 [600/927 (65%)]\tLoss: 0.069160, Accu: 95.00%\n",
      "Train Epoch: 40 [900/927 (98%)]\tLoss: 0.575173, Accu: 75.00%\n",
      "valid seg acc: 0.7395833333333334 \n",
      "\n",
      "valid top_5_seg_scc: 0.9270833333333334 \n",
      "\n",
      "Train Epoch: 41 [300/927 (33%)]\tLoss: 0.509796, Accu: 90.00%\n",
      "Train Epoch: 41 [600/927 (65%)]\tLoss: 0.041255, Accu: 100.00%\n",
      "Train Epoch: 41 [900/927 (98%)]\tLoss: 0.015682, Accu: 100.00%\n",
      "Train Epoch: 42 [300/927 (33%)]\tLoss: 0.011227, Accu: 100.00%\n",
      "Train Epoch: 42 [600/927 (65%)]\tLoss: 0.009997, Accu: 100.00%\n",
      "Train Epoch: 42 [900/927 (98%)]\tLoss: 0.045414, Accu: 100.00%\n",
      "Train Epoch: 43 [300/927 (33%)]\tLoss: 0.006363, Accu: 100.00%\n",
      "Train Epoch: 43 [600/927 (65%)]\tLoss: 0.011084, Accu: 100.00%\n",
      "Train Epoch: 43 [900/927 (98%)]\tLoss: 0.083846, Accu: 95.00%\n",
      "Train Epoch: 44 [300/927 (33%)]\tLoss: 0.017080, Accu: 100.00%\n",
      "Train Epoch: 44 [600/927 (65%)]\tLoss: 0.009069, Accu: 100.00%\n",
      "Train Epoch: 44 [900/927 (98%)]\tLoss: 0.005114, Accu: 100.00%\n",
      "Train Epoch: 45 [300/927 (33%)]\tLoss: 0.012994, Accu: 100.00%\n",
      "Train Epoch: 45 [600/927 (65%)]\tLoss: 0.058117, Accu: 100.00%\n",
      "Train Epoch: 45 [900/927 (98%)]\tLoss: 0.130920, Accu: 90.00%\n",
      "Train Epoch: 46 [300/927 (33%)]\tLoss: 0.015392, Accu: 100.00%\n",
      "Train Epoch: 46 [600/927 (65%)]\tLoss: 0.024134, Accu: 100.00%\n",
      "Train Epoch: 46 [900/927 (98%)]\tLoss: 0.004972, Accu: 100.00%\n",
      "Train Epoch: 47 [300/927 (33%)]\tLoss: 0.039278, Accu: 95.00%\n",
      "Train Epoch: 47 [600/927 (65%)]\tLoss: 0.008368, Accu: 100.00%\n",
      "Train Epoch: 47 [900/927 (98%)]\tLoss: 0.023528, Accu: 100.00%\n",
      "Train Epoch: 48 [300/927 (33%)]\tLoss: 0.196207, Accu: 95.00%\n",
      "Train Epoch: 48 [600/927 (65%)]\tLoss: 0.039680, Accu: 100.00%\n",
      "Train Epoch: 48 [900/927 (98%)]\tLoss: 0.047873, Accu: 100.00%\n",
      "Train Epoch: 49 [300/927 (33%)]\tLoss: 0.007125, Accu: 100.00%\n",
      "Train Epoch: 49 [600/927 (65%)]\tLoss: 0.019789, Accu: 100.00%\n",
      "Train Epoch: 49 [900/927 (98%)]\tLoss: 0.006675, Accu: 100.00%\n",
      "Train Epoch: 50 [300/927 (33%)]\tLoss: 0.056329, Accu: 100.00%\n",
      "Train Epoch: 50 [600/927 (65%)]\tLoss: 0.136659, Accu: 95.00%\n",
      "Train Epoch: 50 [900/927 (98%)]\tLoss: 0.046164, Accu: 100.00%\n",
      "valid seg acc: 0.7708333333333334 \n",
      "\n",
      "valid top_5_seg_scc: 0.9791666666666666 \n",
      "\n"
     ],
     "output_type": "stream"
    }
   ],
   "source": [
    "import datetime\n",
    "epoch_train_losses = []\n",
    "epoch_train_scores = []\n",
    "epoch_test_seg_scores = []\n",
    "\n",
    "maxValidationAcc = 0\n",
    "date = datetime.datetime.now().date() \n",
    "for epoch in range(epochs):\n",
    "    # print('begin balance')        \n",
    "    # new dataset\n",
    "    # 30 pick 1\n",
    "    seed = random.randint(0, 30)\n",
    "    dataset = SegmentDataset(train_data_feat, train_data_label, seed=seed)\n",
    "    dataloader = tud.DataLoader(dataset, \n",
    "        batch_size=batch_size, \n",
    "        shuffle=True,\n",
    "        drop_last=True\n",
    "    )\n",
    "\n",
    "    train_losses, train_scores = train(log_interval, model, device, dataloader, optimizer, epoch, label_nums)\n",
    "\n",
    "    epoch_train_losses.append(train_losses)\n",
    "    epoch_train_scores.append(train_scores)\n",
    "\n",
    "    # validation\n",
    "    if (epoch + 1) % valid_interval == 0:\n",
    "        res = evaluation(model, valid_dataloader, label_nums)\n",
    "        segacc = res['seg']['acc']\n",
    "        epoch_test_seg_scores.append(segacc)\n",
    "        if segacc > maxValidationAcc:\n",
    "            maxValidationAcc = segacc\n",
    "            torch.save(model, \"./trained/tasks/{}_epoch{}_{}.pkl\".format(TASK_NAME,epoch + 1, date))\n",
    "\n",
    "A = np.array(epoch_train_losses)\n",
    "B = np.array(epoch_train_scores)\n",
    "D = np.array(epoch_test_seg_scores)\n",
    "\n",
    "np.save('./results/tasks/training_losses_{}_{}.npy'.format(TASK_NAME,date), A)\n",
    "np.save('./results/tasks/training_scores_{}_{}.npy'.format(TASK_NAME,date), B)\n",
    "\n",
    "np.save('./results/tasks/test_seg_scores_{}_{}.npy'.format(TASK_NAME,date), D)"
   ],
   "metadata": {
    "collapsed": false,
    "pycharm": {
     "name": "#%%\n",
     "is_executing": false
    }
   }
  },
  {
   "cell_type": "code",
   "execution_count": 13,
   "outputs": [
    {
     "data": {
      "text/plain": "<Figure size 720x288 with 2 Axes>",
      "image/png": "[encoded data removed]"
     },
     "metadata": {
      "needs_background": "light"
     },
     "output_type": "display_data"
    }
   ],
   "source": [
    "import matplotlib.pyplot as plt\n",
    "import numpy as np\n",
    "\n",
    "\n",
    "#C = np.load('./results/lstm/test_loss_2020-03-28.npy')\n",
    "#D = np.load('./results/lstm/test_score_2020-03-29.npy')\n",
    "fig = plt.figure(figsize=(10, 4))\n",
    "plt.subplot(121)\n",
    "#plt.plot(np.arange(1, epochs + 1), A[:, -1])  # train loss (on epoch end)\n",
    "#plt.plot(np.arange(1, epochs + 1), C)  \n",
    "plt.title(\"model loss\")\n",
    "plt.xlabel('epochs')\n",
    "plt.ylabel('loss')\n",
    "plt.legend(['train','test'], loc=\"upper left\")\n",
    "# 2nd figure\n",
    "plt.subplot(122)\n",
    "\n",
    "\n",
    "plt.plot(D.flatten()) # train accuracy (on epoch end)\n",
    "plt.title(\"training scores\")\n",
    "plt.xlabel('epochs')\n",
    "plt.ylabel('accuracy')\n",
    "plt.legend(['train', 'test'], loc=\"upper left\")\n",
    "plt.show()"
   ],
   "metadata": {
    "collapsed": false,
    "pycharm": {
     "name": "#%%\n",
     "is_executing": false
    }
   }
  }
 ],
 "metadata": {
  "kernelspec": {
   "display_name": "Python 3",
   "language": "python",
   "name": "python3"
  },
  "language_info": {
   "codemirror_mode": {
    "name": "ipython",
    "version": 2
   },
   "file_extension": ".py",
   "mimetype": "text/x-python",
   "name": "python",
   "nbconvert_exporter": "python",
   "pygments_lexer": "ipython2",
   "version": "2.7.6"
  },
  "pycharm": {
   "stem_cell": {
    "cell_type": "raw",
    "source": [],
    "metadata": {
     "collapsed": false
    }
   }
  }
 },
 "nbformat": 4,
 "nbformat_minor": 0
}