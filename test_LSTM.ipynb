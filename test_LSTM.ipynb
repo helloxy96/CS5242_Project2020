{
 "cells": [
  {
   "cell_type": "code",
   "execution_count": 2,
   "metadata": {
    "collapsed": true,
    "pycharm": {
     "is_executing": false
    }
   },
   "outputs": [
    {
     "name": "stdout",
     "text": [
      "Finish Load the Training data and labels!!!\n"
     ],
     "output_type": "stream"
    }
   ],
   "source": [
    "from utils.read_datasetBreakfast import load_data, read_mapping_dict\n",
    "import os\n",
    "import numpy as np\n",
    "\n",
    "\n",
    "COMP_PATH = ''\n",
    "\n",
    "''' \n",
    "training to load train set\n",
    "test to load test set\n",
    "'''\n",
    "split = 'training'\n",
    "#split = 'test'\n",
    "test_split  =  os.path.join(COMP_PATH, 'splits/val.split1.bundle') #Test Split\n",
    "GT_folder   =  os.path.join(COMP_PATH, 'groundTruth/') #Ground Truth Labels for each training video \n",
    "DATA_folder =  os.path.join(COMP_PATH, 'Data/') #Frame I3D features for all videos\n",
    "mapping_loc =  os.path.join(COMP_PATH, 'splits/mapping_bf.txt') \n",
    "\n",
    "actions_dict = read_mapping_dict(mapping_loc)\n",
    "\n",
    "data_feat, data_labels = load_data( test_split, actions_dict, GT_folder, DATA_folder, datatype = split) #G"
   ]
  },
  {
   "cell_type": "code",
   "execution_count": 13,
   "outputs": [
    {
     "data": {
      "text/plain": "<Figure size 432x288 with 1 Axes>",
      "image/png": "[encoded data removed]"
     },
     "metadata": {
      "needs_background": "light"
     },
     "output_type": "display_data"
    }
   ],
   "source": [
    "import torch\n",
    "from Dataset.VideoDataset import VideoDataset\n",
    "import torch.utils.data as tud\n",
    "from Models.LSTM import LSTM_Model\n",
    "from matplotlib import pyplot as plt \n",
    "import torch.nn.functional as F\n",
    "from sklearn.metrics import accuracy_score\n",
    "\n",
    "model = LSTM_Model().double()\n",
    "model.load_state_dict(torch.load('./trained/lstm.pt'))\n",
    "model.eval()\n",
    "\n",
    "dataset = VideoDataset(data_feat, data_labels)\n",
    "dataloader = tud.DataLoader(dataset, shuffle=False)\n",
    "predict_labels = []\n",
    "with torch.no_grad():\n",
    "    for in_feature, labels in dataloader:\n",
    "        output = model(in_feature)\n",
    "        label_predict = torch.max(output, 1)[1]\n",
    "        predict_labels.append(label_predict.item())\n",
    "        \n",
    "predict_labels = np.asarray(predict_labels)"
   ],
   "metadata": {
    "collapsed": false,
    "pycharm": {
     "name": "#%%\n",
     "is_executing": false
    }
   }
  },
  {
   "cell_type": "code",
   "execution_count": 40,
   "outputs": [
    {
     "data": {
      "text/plain": "<Figure size 432x288 with 1 Axes>",
      "image/png": "[encoded data removed]"
     },
     "metadata": {
      "needs_background": "light"
     },
     "output_type": "display_data"
    }
   ],
   "source": [
    "test = np.asarray(predict_labels)\n",
    "plt.hist(data_labels, bins=range(0,48))\n",
    "plt.show()"
   ],
   "metadata": {
    "collapsed": false,
    "pycharm": {
     "name": "#%%\n",
     "is_executing": false
    }
   }
  },
  {
   "cell_type": "code",
   "execution_count": 41,
   "outputs": [
    {
     "name": "stdout",
     "text": [
      "Finish Load the Training data and labels!!!\n"
     ],
     "output_type": "stream"
    }
   ],
   "source": [
    "train_split  =  os.path.join(COMP_PATH, 'splits/dev_train.split1.bundle') #Test Split\n",
    "data_feat, data_labels = load_data( train_split, actions_dict, GT_folder, DATA_folder, datatype = split) #G"
   ],
   "metadata": {
    "collapsed": false,
    "pycharm": {
     "name": "#%%\n",
     "is_executing": false
    }
   }
  },
  {
   "cell_type": "code",
   "execution_count": 52,
   "outputs": [],
   "source": [
    "import random\n",
    "\n",
    "def balance_data(data_feat, data_labels):\n",
    "    label_dict = {}\n",
    "    for i in range(len(data_labels)):\n",
    "        if data_labels[i] not in label_dict.keys():\n",
    "            label_dict[data_labels[i]] = [data_feat[i]]\n",
    "        else:\n",
    "            label_dict[data_labels[i]].append(data_feat[i])\n",
    "    class_num = len(label_dict.keys())\n",
    "    avg_len = int(len(data_labels) / class_num)\n",
    "\n",
    "    new_data_feat = []\n",
    "    new_data_labels = []\n",
    "    for k in label_dict.keys():\n",
    "        if len(label_dict[k]) < avg_len:\n",
    "            multiplier = int(avg_len/len(label_dict[k])) + 1\n",
    "            label_dict[k] = label_dict[k] * multiplier\n",
    "        random.shuffle(label_dict[k])\n",
    "        new_data_feat.extend(label_dict[k][:avg_len])\n",
    "        new_data_labels.extend([k] * avg_len)\n",
    "    return new_data_feat, new_data_labels"
   ],
   "metadata": {
    "collapsed": false,
    "pycharm": {
     "name": "#%%\n",
     "is_executing": false
    }
   }
  },
  {
   "cell_type": "code",
   "execution_count": 55,
   "outputs": [
    {
     "name": "stdout",
     "text": [
      "859\n",
      "820\n",
      "820\n",
      "torch.Size([181, 400])\n"
     ],
     "output_type": "stream"
    },
    {
     "data": {
      "text/plain": "<Figure size 432x288 with 1 Axes>",
      "image/png": "[encoded data removed]"
     },
     "metadata": {
      "needs_background": "light"
     },
     "output_type": "display_data"
    }
   ],
   "source": [
    "#import utils.balance_data as b\n",
    "test1, test2 = balance_data(data_feat, data_labels)\n",
    "print(len(data_feat))\n",
    "print(len(test1))\n",
    "print(len(test2))\n",
    "print(test1[0].shape)\n",
    "abc = np.asarray(test2)\n",
    "plt.hist(abc, bins=range(0,48))\n",
    "plt.show()"
   ],
   "metadata": {
    "collapsed": false,
    "pycharm": {
     "name": "#%%\n",
     "is_executing": false
    }
   }
  },
  {
   "cell_type": "code",
   "execution_count": 79,
   "outputs": [
    {
     "name": "stdout",
     "text": [
      "torch.Size([260, 400])\n",
      "torch.Size([205, 400])\n",
      "torch.Size([328, 400])\n",
      "torch.Size([3, 328, 400])\n",
      "torch.Size([328, 400])\n",
      "tensor([[-18.6309,   5.0323,  -3.4568,  ...,  -2.5323,  -4.2312,  -7.8478],\n",
      "        [-20.1714,   6.4342,  -2.4734,  ...,  -1.8793,  -4.3813, -10.2211],\n",
      "        [-19.4268,   6.6107,  -2.6361,  ...,  -1.9418,  -4.8028, -10.2391],\n",
      "        ...,\n",
      "        [  0.0000,   0.0000,   0.0000,  ...,   0.0000,   0.0000,   0.0000],\n",
      "        [  0.0000,   0.0000,   0.0000,  ...,   0.0000,   0.0000,   0.0000],\n",
      "        [  0.0000,   0.0000,   0.0000,  ...,   0.0000,   0.0000,   0.0000]],\n",
      "       dtype=torch.float64)\n"
     ],
     "output_type": "stream"
    }
   ],
   "source": [
    "import torch.nn.utils as u\n",
    "print(data_feat[0].shape)\n",
    "print(data_feat[1].shape)\n",
    "print(data_feat[2].shape)\n",
    "a= [data_feat[0], data_feat[1], data_feat[2]]\n",
    "b = u.rnn.pad_sequence(a, batch_first=True)\n",
    "print(b.shape)\n",
    "print(b[0].shape)\n",
    "print(b[0])"
   ],
   "metadata": {
    "collapsed": false,
    "pycharm": {
     "name": "#%%\n",
     "is_executing": false
    }
   }
  }
 ],
 "metadata": {
  "kernelspec": {
   "display_name": "Python 3",
   "language": "python",
   "name": "python3"
  },
  "language_info": {
   "codemirror_mode": {
    "name": "ipython",
    "version": 2
   },
   "file_extension": ".py",
   "mimetype": "text/x-python",
   "name": "python",
   "nbconvert_exporter": "python",
   "pygments_lexer": "ipython2",
   "version": "2.7.6"
  },
  "pycharm": {
   "stem_cell": {
    "cell_type": "raw",
    "source": [],
    "metadata": {
     "collapsed": false
    }
   }
  }
 },
 "nbformat": 4,
 "nbformat_minor": 0
}