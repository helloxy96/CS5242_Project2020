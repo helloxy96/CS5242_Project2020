{
 "cells": [
  {
   "cell_type": "code",
   "execution_count": 1,
   "metadata": {
    "collapsed": true,
    "pycharm": {
     "is_executing": false
    }
   },
   "outputs": [],
   "source": [
    "from utils.read_datasetBreakfast import load_data, read_mapping_dict\n",
    "import os\n",
    "import numpy as np\n",
    "\n",
    "\n",
    "COMP_PATH = ''\n",
    "\n",
    "''' \n",
    "training to load train set\n",
    "test to load test set\n",
    "'''\n",
    "#split = 'training'\n",
    "split = 'test'\n",
    "test_split  =  os.path.join(COMP_PATH, 'splits/test.split1.bundle') #Test Split\n",
    "GT_folder   =  os.path.join(COMP_PATH, 'groundTruth/') #Ground Truth Labels for each training video \n",
    "DATA_folder =  os.path.join(COMP_PATH, 'Data/') #Frame I3D features for all videos\n",
    "mapping_loc =  os.path.join(COMP_PATH, 'splits/mapping_bf.txt') \n",
    "\n",
    "actions_dict = read_mapping_dict(mapping_loc)\n",
    "\n",
    "data_feat = load_data( test_split, actions_dict, GT_folder, DATA_folder, datatype = split) #G"
   ]
  },
  {
   "cell_type": "code",
   "execution_count": 13,
   "outputs": [
    {
     "name": "stdout",
     "text": [
      "[['30', '150', '428', '575', '705'], ['38', '199', '378', '775'], ['385', '599', '1382', '4007', '4123'], ['54', '229', '514', '754', '1024'], ['483', '548', '703', '853', '2633', '2960', '3310', '3740', '4110', '4200', '4375'], ['190', '260', '552', '652', '1664', '1763', '2264', '2780', '2939'], ['89', '239', '919', '1174'], ['30', '150', '428', '575', '705'], ['38', '199', '378', '775'], ['54', '229', '514', '754', '1024'], ['190', '260', '552', '652', '1664', '1763', '2264', '2780', '2939'], ['89', '239', '919', '1174'], ['30', '150', '428', '575', '705'], ['38', '199', '378', '775'], ['385', '599', '1382', '4007', '4123'], ['54', '229', '514', '754', '1024'], ['483', '548', '703', '853', '2633', '2960', '3310', '3740', '4110', '4200', '4375'], ['190', '260', '552', '652', '1664', '1763', '2264', '2780', '2939'], ['89', '239', '919', '1174'], ['30', '150', '428', '575', '705'], ['38', '199', '378', '775'], ['385', '599', '1382', '4007', '4123'], ['54', '229', '514', '754', '1024'], ['483', '548', '703', '853', '2633', '2960', '3310', '3740', '4110', '4200', '4375'], ['190', '260', '552', '652', '1664', '1763', '2264', '2780', '2939'], ['89', '239', '919', '1174'], ['55', '233', '405'], ['2', '221', '439', '2995', '3135', '3286'], ['213', '348', '538', '668'], ['2', '95', '327', '612', '790', '1873', '2120', '2473', '6379', '6495', '6579'], ['140', '230', '530', '1100', '1340', '1380'], ['2', '143', '350', '833', '963', '1452', '1672', '2345', '2464', '2634'], ['106', '201', '350'], ['55', '233', '405'], ['2', '221', '439', '2995', '3135', '3286'], ['213', '348', '538', '668'], ['2', '95', '327', '612', '790', '1873', '2120', '2473', '6379', '6495', '6579'], ['140', '230', '530', '1100', '1340', '1380'], ['2', '143', '350', '833', '963', '1452', '1672', '2345', '2464', '2634'], ['106', '201', '350'], ['55', '233', '405'], ['2', '221', '439', '2995', '3135', '3286'], ['213', '348', '538', '668'], ['48', '95', '327', '612', '790', '1873', '2120', '2473', '6379', '6495', '6579'], ['11', '291', '371', '626', '806', '861', '1271', '1851', '2621', '2681'], ['140', '230', '530', '1100', '1340', '1380'], ['2', '143', '350', '833', '963', '1452', '1672', '2345', '2464', '2634'], ['106', '201', '350'], ['55', '233', '405'], ['2', '221', '439', '2995', '3135', '3286'], ['213', '348', '538', '668'], ['9', '95', '327', '612', '790', '1873', '2120', '2473', '6379', '6495', '6579'], ['11', '291', '371', '626', '806', '861', '1271', '1851', '2621', '2681'], ['140', '230', '530', '1100', '1340', '1380'], ['3', '143', '350', '833', '963', '1452', '1672', '2345', '2464', '2634'], ['106', '201', '350'], ['13', '246', '624', '1124', '1158'], ['3', '242', '378', '627', '1027'], ['74', '221', '729', '868', '1153', '2930', '3310', '3393'], ['17', '162', '342', '372', '1432', '1572', '2462', '2732'], ['15', '269', '922', '1292', '1703', '2496', '2780', '5682', '5760'], ['20', '80', '205', '1920', '2090', '2300', '2320', '2390', '2415', '3445', '3715'], ['23', '138', '298', '523', '798', '2003', '2453', '2513'], ['27', '179', '546', '847', '1021', '1193', '2157', '2233', '2615'], ['127', '288', '596', '865'], ['17', '162', '342', '372', '1432', '1572', '2462', '2732'], ['35', '122', '524', '604', '809', '967'], ['12', '109', '260', '469'], ['3', '104', '190', '285', '472'], ['103', '224', '424', '499', '718', '920', '974', '2043', '2140'], ['56', '151', '199', '299', '324', '980', '1290'], ['5', '74', '296', '404', '514'], ['2', '139', '555', '744', '1556', '1844', '4805', '4976'], ['10', '100', '1015', '1900', '2440', '2890'], ['58', '327', '538', '1579', '2352', '2423'], ['3', '110', '859', '947', '1312'], ['47', '95', '197', '482'], ['2', '110', '859', '947', '1312'], ['130', '230', '449', '969'], ['55', '134', '369', '979', '1674', '1729', '1789', '1854', '1914', '1984', '2114', '2189', '2784', '3009', '3059', '3154', '3203'], ['43', '103', '476', '587', '694', '1185', '1330', '1748', '1814', '2199'], ['80', '547', '974', '1245', '2796', '2987'], ['129', '194', '239', '337', '823', '922', '1140'], ['130', '230', '449', '969'], ['19', '79', '204', '319', '404', '674', '1604', '2074'], ['43', '103', '476', '587', '694', '1185', '1330', '1748', '1814', '2199'], ['50', '151', '244', '441'], ['55', '323', '499', '788', '907'], ['80', '547', '974', '1245', '2796', '2987'], ['129', '194', '239', '337', '823', '922', '1140'], ['130', '230', '449', '969'], ['136', '287', '631', '898', '985', '2191', '2310', '3616', '3735', '3878'], ['55', '134', '369', '979', '1674', '1729', '1789', '1854', '1914', '1984', '2114', '2189', '2784', '3009', '3059', '3154', '3203'], ['19', '79', '204', '319', '404', '674', '1604', '2074'], ['43', '103', '476', '587', '694', '1185', '1330', '1748', '1814', '2199'], ['50', '151', '244', '441'], ['21', '111', '261', '851', '1026', '1158'], ['26', '183', '281'], ['74', '660', '960', '1069'], ['2', '158'], ['100', '209', '304', '1480', '1698', '2904', '3099', '3908', '3988'], ['21', '111', '261', '851', '1026', '1158'], ['61', '361', '660', '1305'], ['25', '150', '263', '378', '1166', '1439', '3462', '3656'], ['31', '76', '656', '1106', '1156', '1261', '1371', '2271', '2331', '2431', '2491', '2681', '2751', '2911'], ['41', '196', '326', '536', '566'], ['71', '195', '481', '650', '769', '933', '1435', '1565'], ['26', '183', '281'], ['41', '179', '555'], ['33', '185', '715', '816', '1363', '1439', '2330', '2385'], ['25', '150', '230', '295', '955', '1125'], ['131', '276', '476', '636'], ['11', '113', '231', '372', '468', '1085', '1185'], ['143', '283', '383'], ['22', '134', '377', '668'], ['149', '179', '555'], ['25', '150', '230', '295', '955', '1125'], ['131', '276', '476', '636'], ['89', '241', '461', '585', '919', '1108', '1342', '3899', '4016', '4873', '5016', '5224'], ['61', '157', '847', '1012', '1047', '1133', '1160', '1538', '1563', '1795', '1840', '2120', '2170', '2285', '2370', '2415', '2580'], ['156', '211', '346', '487', '1207', '1559'], ['11', '113', '231', '372', '468', '1085', '1185'], ['143', '283', '383'], ['120', '265', '455', '875', '1145', '1550', '1745'], ['260', '375', '483', '705'], ['231', '541', '831', '932', '1102'], ['19', '258', '684', '927', '1134', '3227', '3465'], ['87', '257', '367', '1797', '2037', '2297'], ['142', '384', '679', '879'], ['42', '257', '381', '467', '1099', '1208', '1425', '2112', '4063', '4220', '4465'], ['222', '382', '2502', '2632', '2852', '2942', '3807', '3852', '3952', '3982', '4547', '4582'], ['66', '236', '541', '666'], ['28', '90', '306', '387', '480'], ['2', '145', '372'], ['66', '310', '4043', '5007', '8131', '8192', '8257'], ['61', '211', '481', '701'], ['6', '420', '595', '708', '961', '1981', '2590', '6334', '6525', '6600'], ['61', '237', '1200', '1450', '1485', '2315', '2345', '2405', '2445', '2580', '2620'], ['41', '121', '416', '491', '1021', '1231', '1456', '1506'], ['38', '292', '896', '1927', '2409', '2619'], ['42', '92', '272'], ['61', '211', '481', '701'], ['28', '90', '306', '387', '480'], ['20', '145', '372'], ['66', '310', '4043', '5007', '8131', '8192', '8257'], ['61', '211', '481', '701'], ['2', '420', '595', '708', '961', '1981', '2590', '6334', '6525', '6600'], ['61', '237', '1200', '1450', '1485', '2315', '2345', '2405', '2445', '2580', '2620'], ['41', '121', '416', '491', '1021', '1231', '1456', '1506'], ['38', '292', '896', '1927', '2409', '2619'], ['42', '92', '272'], ['22', '103', '383', '566'], ['2', '215'], ['28', '263', '594', '3363', '4145'], ['6', '135', '547', '667'], ['17', '135', '323', '445', '602', '743', '2679', '2804'], ['182', '250', '590', '1083', '1231', '1962', '2038'], ['66', '146', '366', '714', '933', '1393', '1568'], ['85', '284', '486', '771', '1107', '1955', '2112', '2656', '2726'], ['30', '94', '204'], ['28', '263', '594', '3363', '4145'], ['182', '250', '590', '1083', '1231', '1962', '2038'], ['2', '103', '383', '566'], ['2', '215'], ['28', '263', '594', '3363', '4145'], ['6', '135', '547', '667'], ['2', '135', '323', '445', '602', '743', '2679', '2804'], ['182', '250', '590', '1083', '1231', '1962', '2038'], ['66', '146', '366', '714', '933', '1393', '1568'], ['85', '284', '486', '771', '1107', '1955', '2112', '2656', '2726'], ['30', '94', '204'], ['30', '158', '463', '623'], ['2', '326', '473'], ['37', '183', '324', '2256', '2346', '2612'], ['25', '258', '416', '486'], ['30', '610', '716', '906', '1035', '1315', '1443', '1492', '1712', '3794', '3994', '4381'], ['24', '639', '792', '942', '1061', '1636', '1701', '2166', '2296'], ['122', '352', '782', '942', '1657'], ['4', '170', '272', '398', '605', '811', '1350', '1467', '1648'], ['48', '168', '323'], ['30', '158', '463', '623'], ['25', '258', '416', '486'], ['30', '610', '716', '906', '1035', '1315', '1443', '1492', '1712', '3794', '3994', '4381'], ['4', '170', '272', '398', '605', '811', '1350', '1467', '1648'], ['48', '168', '323'], ['30', '158', '463', '623'], ['36', '326', '473'], ['37', '183', '324', '2256', '2346', '2612'], ['25', '258', '416', '486'], ['30', '610', '716', '906', '1035', '1315', '1443', '1492', '1712', '3794', '3994', '4381'], ['24', '639', '792', '942', '1061', '1636', '1701', '2166', '2296'], ['122', '352', '782', '942', '1657'], ['5', '170', '272', '398', '605', '811', '1350', '1467', '1648'], ['48', '168', '323'], ['32', '484', '693'], ['27', '181', '336'], ['45', '186', '2368', '2634', '2809'], ['30', '110', '150', '250', '389', '1418', '1558'], ['20', '130', '370', '560', '750'], ['2', '218', '513', '686', '1386', '1438', '1866', '2152', '5493', '5550', '5849'], ['6', '671', '1901', '2041', '2606', '2725', '2865', '2885', '3165', '3367'], ['85', '250', '750', '1380'], ['24', '142', '339', '904', '1129', '2309', '2775'], ['96', '173', '397'], ['32', '484', '693'], ['3', '181', '336'], ['3', '186', '2368', '2634', '2809'], ['30', '110', '150', '250', '389', '1418', '1558'], ['20', '130', '370', '560', '750'], ['6', '671', '1901', '2041', '2606', '2725', '2865', '2885', '3165', '3367'], ['85', '250', '750', '1380'], ['24', '142', '339', '904', '1129', '2309', '2775'], ['96', '173', '397'], ['32', '484', '693'], ['28', '181', '336'], ['60', '186', '2368', '2634', '2809'], ['30', '110', '150', '250', '389', '1418', '1558'], ['20', '130', '370', '560', '750'], ['12', '218', '513', '686', '1386', '1438', '1866', '2152', '5493', '5550', '5849'], ['6', '671', '1901', '2041', '2606', '2725', '2865', '2885', '3165', '3367'], ['85', '250', '750', '1380'], ['24', '142', '339', '904', '1129', '2309', '2775'], ['96', '173', '397'], ['21', '238', '379'], ['2', '461', '693'], ['3', '186', '829', '1950', '2276'], ['20', '125', '225', '275', '845', '1235'], ['4', '148', '398', '678'], ['41', '456', '694', '1057', '2249', '2483', '2855', '6809', '6966', '7448'], ['11', '771', '1706', '1850', '3760', '3875'], ['10', '240', '680', '995'], ['2', '217', '542', '1495', '1543', '1705'], ['10', '110', '295'], ['21', '238', '379'], ['2', '461', '693'], ['3', '186', '829', '1950', '2276'], ['20', '125', '225', '275', '845', '1235'], ['4', '148', '398', '678'], ['41', '456', '694', '1057', '2249', '2483', '2855', '6809', '6966', '7448'], ['11', '771', '1706', '1850', '3760', '3875'], ['10', '240', '680', '995'], ['2', '217', '542', '1495', '1543', '1705'], ['10', '110', '295'], ['21', '238', '379'], ['6', '461', '693'], ['3', '186', '829', '1950', '2276'], ['20', '125', '225', '275', '845', '1235'], ['4', '148', '398', '678'], ['41', '456', '694', '1057', '2249', '2483', '2855', '6809', '6966', '7448'], ['10', '240', '680', '995'], ['2', '217', '542', '1495', '1543', '1705'], ['10', '110', '295']]\n"
     ],
     "output_type": "stream"
    }
   ],
   "source": [
    "segment_idx = []\n",
    "with open(\"./utils/test_segment.txt\") as f:\n",
    "    while True:\n",
    "        line = f.readline()\n",
    "        if not line:\n",
    "            break\n",
    "        segment_idx.append(line[:-1].split(\" \"))"
   ],
   "metadata": {
    "collapsed": false,
    "pycharm": {
     "name": "#%%\n",
     "is_executing": false
    }
   }
  },
  {
   "cell_type": "code",
   "execution_count": 18,
   "outputs": [],
   "source": [
    "data_feat_seg = []\n",
    "for i in range(len(data_feat)):\n",
    "    for j in range(len(segment_idx[i])-1):\n",
    "        data_feat_seg.append(data_feat[i][int(segment_idx[i][j]):int(segment_idx[i][j+1])])"
   ],
   "metadata": {
    "collapsed": false,
    "pycharm": {
     "name": "#%%\n",
     "is_executing": false
    }
   }
  },
  {
   "cell_type": "code",
   "execution_count": 21,
   "outputs": [
    {
     "name": "stdout",
     "text": [
      "torch.Size([832, 400])\n",
      "1284\n",
      "torch.Size([120, 400])\n"
     ],
     "output_type": "stream"
    }
   ],
   "source": [
    "print(data_feat[0].shape)\n",
    "print(len(data_feat_seg))\n",
    "print(data_feat_seg[0].shape)"
   ],
   "metadata": {
    "collapsed": false,
    "pycharm": {
     "name": "#%%\n",
     "is_executing": false
    }
   }
  },
  {
   "cell_type": "code",
   "execution_count": 8,
   "outputs": [],
   "source": [
    "import torch.utils.data as tud\n",
    "class VideoTestDataset(tud.Dataset):\n",
    "    def __init__(self, videos):\n",
    "        super(VideoTestDataset, self).__init__()\n",
    "        self.videos = videos\n",
    "\n",
    "    def __len__(self):\n",
    "        return len(self.videos)\n",
    "\n",
    "    def __getitem__(self, idx):\n",
    "        video = self.videos[idx]\n",
    "        return video"
   ],
   "metadata": {
    "collapsed": false,
    "pycharm": {
     "name": "#%%\n",
     "is_executing": false
    }
   }
  },
  {
   "cell_type": "code",
   "execution_count": 22,
   "outputs": [
    {
     "name": "stderr",
     "text": [
      "E:\\Study\\Anaconda\\lib\\site-packages\\torch\\serialization.py:452: SourceChangeWarning: source code of class 'torch.nn.modules.rnn.LSTM' has changed. you can retrieve the original source code by accessing the object's source attribute or set `torch.nn.Module.dump_patches = True` and use the patch tool to revert the changes.\n",
      "  warnings.warn(msg, SourceChangeWarning)\n",
      "E:\\Study\\Anaconda\\lib\\site-packages\\torch\\serialization.py:452: SourceChangeWarning: source code of class 'torch.nn.modules.linear.Linear' has changed. you can retrieve the original source code by accessing the object's source attribute or set `torch.nn.Module.dump_patches = True` and use the patch tool to revert the changes.\n",
      "  warnings.warn(msg, SourceChangeWarning)\n"
     ],
     "output_type": "stream"
    }
   ],
   "source": [
    "import torch.nn.utils as u\n",
    "import torch\n",
    "from Dataset.VideoDataset import VideoDataset\n",
    "import torch.utils.data as tud\n",
    "from Models.LSTM import LSTM_Model\n",
    "from matplotlib import pyplot as plt \n",
    "import torch.nn.functional as F\n",
    "from sklearn.metrics import accuracy_score\n",
    "\n",
    "model = torch.load(\"./trained/lstm/lstm_200.pkl\", map_location=torch.device(\"cpu\"))\n",
    "model.eval()\n",
    "\n",
    "dataset = VideoTestDataset(data_feat_seg)\n",
    "dataloader = tud.DataLoader(dataset, shuffle=False)\n",
    "predict_labels = []\n",
    "with torch.no_grad():\n",
    "    for in_feature in dataloader:\n",
    "        packed_input = u.rnn.pack_padded_sequence(in_feature, torch.LongTensor([in_feature.shape[1]]),batch_first=True, enforce_sorted=False)\n",
    "        output = model(packed_input)\n",
    "        label_predict = torch.max(output, 1)[1]\n",
    "        predict_labels.append(label_predict.item())\n",
    "        \n",
    "#predict_labels = np.asarray(predict_labels)"
   ],
   "metadata": {
    "collapsed": false,
    "pycharm": {
     "name": "#%%\n",
     "is_executing": false
    }
   }
  },
  {
   "cell_type": "code",
   "execution_count": 24,
   "outputs": [],
   "source": [
    "path = './results/lstm/test_result.csv'\n",
    "f = open(path, 'w+')\n",
    "f.write('Id,Category\\n')\n",
    "\n",
    "counter = 0\n",
    "for i in predict_labels:\n",
    "        f.write(f'{counter},{i}\\n')\n",
    "        counter += 1\n",
    "f.close()"
   ],
   "metadata": {
    "collapsed": false,
    "pycharm": {
     "name": "#%%\n",
     "is_executing": false
    }
   }
  },
  {
   "cell_type": "code",
   "execution_count": 23,
   "outputs": [
    {
     "data": {
      "text/plain": "<Figure size 432x288 with 1 Axes>",
      "image/png": "[encoded data removed]"
     },
     "metadata": {
      "needs_background": "light"
     },
     "output_type": "display_data"
    }
   ],
   "source": [
    "test = np.asarray(predict_labels)\n",
    "plt.hist(test, bins=range(0,48))\n",
    "plt.show()"
   ],
   "metadata": {
    "collapsed": false,
    "pycharm": {
     "name": "#%%\n",
     "is_executing": false
    }
   }
  },
  {
   "cell_type": "code",
   "execution_count": 41,
   "outputs": [
    {
     "name": "stdout",
     "text": [
      "Finish Load the Training data and labels!!!\n"
     ],
     "output_type": "stream"
    }
   ],
   "source": [
    "train_split  =  os.path.join(COMP_PATH, 'splits/dev_train.split1.bundle') #Test Split\n",
    "data_feat, data_labels = load_data( train_split, actions_dict, GT_folder, DATA_folder, datatype = split) #G"
   ],
   "metadata": {
    "collapsed": false,
    "pycharm": {
     "name": "#%%\n",
     "is_executing": false
    }
   }
  },
  {
   "cell_type": "code",
   "execution_count": 52,
   "outputs": [],
   "source": [
    "import random\n",
    "\n",
    "def balance_data(data_feat, data_labels):\n",
    "    label_dict = {}\n",
    "    for i in range(len(data_labels)):\n",
    "        if data_labels[i] not in label_dict.keys():\n",
    "            label_dict[data_labels[i]] = [data_feat[i]]\n",
    "        else:\n",
    "            label_dict[data_labels[i]].append(data_feat[i])\n",
    "    class_num = len(label_dict.keys())\n",
    "    avg_len = int(len(data_labels) / class_num)\n",
    "\n",
    "    new_data_feat = []\n",
    "    new_data_labels = []\n",
    "    for k in label_dict.keys():\n",
    "        if len(label_dict[k]) < avg_len:\n",
    "            multiplier = int(avg_len/len(label_dict[k])) + 1\n",
    "            label_dict[k] = label_dict[k] * multiplier\n",
    "        random.shuffle(label_dict[k])\n",
    "        new_data_feat.extend(label_dict[k][:avg_len])\n",
    "        new_data_labels.extend([k] * avg_len)\n",
    "    return new_data_feat, new_data_labels"
   ],
   "metadata": {
    "collapsed": false,
    "pycharm": {
     "name": "#%%\n",
     "is_executing": false
    }
   }
  },
  {
   "cell_type": "code",
   "execution_count": 55,
   "outputs": [
    {
     "name": "stdout",
     "text": [
      "859\n",
      "820\n",
      "820\n",
      "torch.Size([181, 400])\n"
     ],
     "output_type": "stream"
    },
    {
     "data": {
      "text/plain": "<Figure size 432x288 with 1 Axes>",
      "image/png": "[encoded data removed]"
     },
     "metadata": {
      "needs_background": "light"
     },
     "output_type": "display_data"
    }
   ],
   "source": [
    "#import utils.balance_data as b\n",
    "test1, test2 = balance_data(data_feat, data_labels)\n",
    "print(len(data_feat))\n",
    "print(len(test1))\n",
    "print(len(test2))\n",
    "print(test1[0].shape)\n",
    "abc = np.asarray(test2)\n",
    "plt.hist(abc, bins=range(0,48))\n",
    "plt.show()"
   ],
   "metadata": {
    "collapsed": false,
    "pycharm": {
     "name": "#%%\n",
     "is_executing": false
    }
   }
  },
  {
   "cell_type": "code",
   "execution_count": 79,
   "outputs": [
    {
     "name": "stdout",
     "text": [
      "torch.Size([260, 400])\n",
      "torch.Size([205, 400])\n",
      "torch.Size([328, 400])\n",
      "torch.Size([3, 328, 400])\n",
      "torch.Size([328, 400])\n",
      "tensor([[-18.6309,   5.0323,  -3.4568,  ...,  -2.5323,  -4.2312,  -7.8478],\n",
      "        [-20.1714,   6.4342,  -2.4734,  ...,  -1.8793,  -4.3813, -10.2211],\n",
      "        [-19.4268,   6.6107,  -2.6361,  ...,  -1.9418,  -4.8028, -10.2391],\n",
      "        ...,\n",
      "        [  0.0000,   0.0000,   0.0000,  ...,   0.0000,   0.0000,   0.0000],\n",
      "        [  0.0000,   0.0000,   0.0000,  ...,   0.0000,   0.0000,   0.0000],\n",
      "        [  0.0000,   0.0000,   0.0000,  ...,   0.0000,   0.0000,   0.0000]],\n",
      "       dtype=torch.float64)\n"
     ],
     "output_type": "stream"
    }
   ],
   "source": [
    "import torch.nn.utils as u\n",
    "print(data_feat[0].shape)\n",
    "print(data_feat[1].shape)\n",
    "print(data_feat[2].shape)\n",
    "a= [data_feat[0], data_feat[1], data_feat[2]]\n",
    "b = u.rnn.pad_sequence(a, batch_first=True)\n",
    "print(b.shape)\n",
    "print(b[0].shape)\n",
    "print(b[0])"
   ],
   "metadata": {
    "collapsed": false,
    "pycharm": {
     "name": "#%%\n",
     "is_executing": false
    }
   }
  }
 ],
 "metadata": {
  "kernelspec": {
   "display_name": "Python 3",
   "language": "python",
   "name": "python3"
  },
  "language_info": {
   "codemirror_mode": {
    "name": "ipython",
    "version": 2
   },
   "file_extension": ".py",
   "mimetype": "text/x-python",
   "name": "python",
   "nbconvert_exporter": "python",
   "pygments_lexer": "ipython2",
   "version": "2.7.6"
  },
  "pycharm": {
   "stem_cell": {
    "cell_type": "raw",
    "source": [],
    "metadata": {
     "collapsed": false
    }
   }
  }
 },
 "nbformat": 4,
 "nbformat_minor": 0
}