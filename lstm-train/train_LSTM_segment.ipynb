{
 "cells": [
  {
   "cell_type": "code",
   "execution_count": 1,
   "metadata": {
    "collapsed": true,
    "pycharm": {
     "is_executing": false
    }
   },
   "outputs": [
    {
     "name": "stdout",
     "text": [
      "Finish Load the Training data and labels!!!\n"
     ],
     "output_type": "stream"
    }
   ],
   "source": [
    "from utils.read_datasetBreakfast import load_data, read_mapping_dict\n",
    "import os\n",
    "import numpy as np\n",
    "\n",
    "\n",
    "COMP_PATH = ''\n",
    "\n",
    "''' \n",
    "training to load train set\n",
    "test to load test set\n",
    "'''\n",
    "split = 'training'\n",
    "#split = 'test'\n",
    "train_split =  os.path.join(COMP_PATH, 'splits/dev_train.split1.bundle') #Train Split\n",
    "test_split  =  os.path.join(COMP_PATH, 'splits/test.split1.bundle') #Test Split\n",
    "GT_folder   =  os.path.join(COMP_PATH, 'groundTruth/') #Ground Truth Labels for each training video \n",
    "DATA_folder =  os.path.join(COMP_PATH, 'Data/') #Frame I3D features for all videos\n",
    "mapping_loc =  os.path.join(COMP_PATH, 'splits/mapping_bf.txt') \n",
    "\n",
    "actions_dict = read_mapping_dict(mapping_loc)\n",
    "\n",
    "data_feat, data_labels = load_data( train_split, actions_dict, GT_folder, DATA_folder, datatype = split) #Get features and labels"
   ]
  },
  {
   "cell_type": "code",
   "execution_count": 2,
   "outputs": [
    {
     "name": "stdout",
     "text": [
      "Finish Load the Training data and labels!!!\n"
     ],
     "output_type": "stream"
    }
   ],
   "source": [
    "validation_split = os.path.join(COMP_PATH, 'splits/val.split1.bundle') #Validation split\n",
    "val_data_feat, val_data_labels = load_data( validation_split, actions_dict, GT_folder, DATA_folder, datatype = split) #Get features and labels"
   ],
   "metadata": {
    "collapsed": false,
    "pycharm": {
     "name": "#%%\n",
     "is_executing": false
    }
   }
  },
  {
   "cell_type": "code",
   "execution_count": 15,
   "outputs": [],
   "source": [
    "import torch\n",
    "def splitByFrames(data_feat, data_labels, frames_per_clip):\n",
    "    new_data_feat = []\n",
    "    new_data_labels = []\n",
    "    for i in range(0, len(data_feat)):\n",
    "        total_frames, dim = data_feat[i].shape\n",
    "        segment = data_feat[i]\n",
    "        if total_frames % frames_per_clip != 0:\n",
    "            pad_num = frames_per_clip - total_frames % frames_per_clip\n",
    "            pad_Tensor = torch.zeros((pad_num, 400), dtype=torch.float64)\n",
    "            segment = torch.cat((segment, pad_Tensor))\n",
    "        total_frames, dim = segment.shape\n",
    "        clip_num = int(total_frames / frames_per_clip)\n",
    "        clips = segment.view(-1, frames_per_clip, 400)\n",
    "    \n",
    "        label = data_labels[i]\n",
    "        new_data_labels += [label] * clip_num\n",
    "        new_data_feat.append(clips)\n",
    "\n",
    "    new_data_feat = torch.cat(new_data_feat)\n",
    "    return new_data_feat, new_data_labels\n",
    "\n",
    "#new_data_feat, new_data_labels = splitByFrames(data_feat, data_labels, 16)\n",
    "#val_data_feat, val_data_labels = splitByFrames(val_data_feat, val_data_labels, 16)"
   ],
   "metadata": {
    "collapsed": false,
    "pycharm": {
     "name": "#%%\n",
     "is_executing": false
    }
   }
  },
  {
   "cell_type": "code",
   "execution_count": 2,
   "metadata": {
    "pycharm": {
     "is_executing": false,
     "name": "#%%\n"
    }
   },
   "outputs": [],
   "source": [
    "import torch\n",
    "from Dataset.VideoDataset import VideoDataset, VideoTrainDataset\n",
    "import torch.utils.data as tud\n",
    "from Models.LSTM import LSTM_Model\n",
    "import torch.nn.functional as F\n",
    "from sklearn.metrics import accuracy_score\n",
    "import torch.nn.utils as u\n",
    "\n",
    "epochs = 1\n",
    "batch_size = 50\n",
    "\n",
    "\n",
    "learning_rate = 1e-3\n",
    "log_interval = 30\n",
    "\n",
    "def train(log_interval, model, device, train_loader, optimizer, epoch):\n",
    "    model.train()\n",
    "    \n",
    "    losses = []\n",
    "    scores = []\n",
    "    for batch_idx, (in_feature, label, seq_length) in enumerate(train_loader):\n",
    "        in_feature = in_feature.to(device)\n",
    "        label = label.to(device)\n",
    "        seq_length = seq_length.to(device)\n",
    "        packed_input = u.rnn.pack_padded_sequence(in_feature, seq_length, batch_first=True, enforce_sorted=False).to(device)\n",
    "        \n",
    "        optimizer.zero_grad()\n",
    "        output = model(packed_input)\n",
    "        loss = F.cross_entropy(output, label)\n",
    "        losses.append(loss.item())\n",
    "        \n",
    "        label_predict = torch.max(output, 1)[1]\n",
    "        step_score = accuracy_score(label.cpu().data.squeeze().numpy(), label_predict.cpu().data.squeeze().numpy())\n",
    "        scores.append(step_score)\n",
    "        \n",
    "        loss.backward()\n",
    "        optimizer.step()\n",
    "        \n",
    "        if (batch_idx + 1) % log_interval == 0:\n",
    "            print('Train Epoch: {} [{}/{} ({:.0f}%)]\\tLoss: {:.6f}, Accu: {:.2f}%'.format(\n",
    "                epoch + 1, (batch_idx+1)*batch_size, len(train_loader.dataset), 100. * (batch_idx + 1) / len(train_loader), loss.item(), 100 * step_score))\n",
    "        \n",
    "    return losses, scores"
   ]
  },
  {
   "cell_type": "code",
   "execution_count": 8,
   "outputs": [],
   "source": [
    "val_dataset = VideoDataset(val_data_feat, val_data_labels)\n",
    "val_dataloader = tud.DataLoader(val_dataset)\n",
    "\n",
    "def validation(model, device, test_loader):\n",
    "    model.eval()\n",
    "    \n",
    "    all_labels = []\n",
    "    all_labels_predict = []\n",
    "    with torch.no_grad():\n",
    "        for in_feature, labels in test_loader:\n",
    "            in_feature = in_feature.to(device)\n",
    "            labels = labels.to(device)\n",
    "            packed_input = u.rnn.pack_padded_sequence(in_feature, torch.LongTensor([in_feature.shape[1]]),batch_first=True, enforce_sorted=False).to(device)\n",
    "            \n",
    "            output = model(packed_input)\n",
    "            \n",
    "            labels_predict = torch.max(output, 1)[1]\n",
    "            all_labels.extend(labels)\n",
    "            all_labels_predict.extend(labels_predict.long())\n",
    "            \n",
    "    # compute accuracy\n",
    "    all_labels = torch.stack(all_labels, dim=0)\n",
    "    all_labels_predict = torch.stack(all_labels_predict, dim=0)\n",
    "    test_score = accuracy_score(all_labels.cpu().data.squeeze().numpy(), all_labels_predict.cpu().data.squeeze().numpy())\n",
    "    print('\\nTest set ({:d} samples): Accuracy: {:.2f}%\\n'.format(len(all_labels), 100* test_score))\n",
    "    \n",
    "    return test_score"
   ],
   "metadata": {
    "collapsed": false,
    "pycharm": {
     "name": "#%%\n",
     "is_executing": false
    }
   }
  },
  {
   "cell_type": "code",
   "execution_count": 3,
   "metadata": {
    "pycharm": {
     "is_executing": false,
     "name": "#%%\n"
    }
   },
   "outputs": [],
   "source": [
    "import utils.balance_data as b\n",
    "cuda_avail = torch.cuda.is_available()\n",
    "device = torch.device(\"cuda\" if cuda_avail else \"cpu\")\n",
    "\n",
    "lstm = LSTM_Model(hidden_rnn_layers = 2, hidden_rnn_nodes = 368, bidirectional=True, fc_dim=256).double().to(device)\n",
    "optimizer = torch.optim.Adam(list(lstm.parameters()), lr=learning_rate, weight_decay = 1e-6)\n",
    "\n",
    "# record training process\n",
    "epoch_train_losses = []\n",
    "epoch_train_scores = []\n",
    "epoch_test_scores = []\n",
    "\n",
    "label_dict = b.generate_label_dictionary(data_feat, data_labels)\n",
    "total_segments = len(data_labels)\n",
    "for epoch in range(epochs):\n",
    "    new_data_feat, new_data_labels = b.balance_data(label_dict, total_segments)\n",
    "    dataset = VideoTrainDataset(new_data_feat, new_data_labels, 50)\n",
    "    dataloader = tud.DataLoader(dataset, batch_size=batch_size, shuffle=True)\n",
    "    train_losses, train_scores = train(log_interval, lstm, device, dataloader, optimizer, epoch)\n",
    "    \n",
    "    epoch_train_losses.append(train_losses)\n",
    "    epoch_train_scores.append(train_scores)\n",
    "    #if epoch % 20 == 0:\n",
    "        #test_score = validation(lstm, device, val_dataloader)\n",
    "        #epoch_test_scores.append(test_score)\n",
    "\n",
    "torch.save(model.state_dict(), \"./trained/lstm.pt\")\n",
    "A = np.array(epoch_train_losses)\n",
    "B = np.array(epoch_train_scores)\n",
    "D = np.array(epoch_test_scores)\n",
    "np.save('./results/lstm/training_losses_2.npy', A)\n",
    "np.save('./results/lstm/training_scores_2.npy', B)\n",
    "#np.save('./results/lstm/test_loss.npy', C)\n",
    "np.save('./results/lstm/test_score.npy', D)\n",
    "    \n"
   ]
  },
  {
   "cell_type": "code",
   "execution_count": 2,
   "outputs": [
    {
     "data": {
      "text/plain": "<Figure size 720x288 with 2 Axes>",
      "image/png": "[encoded data removed]"
     },
     "metadata": {
      "needs_background": "light"
     },
     "output_type": "display_data"
    }
   ],
   "source": [
    "import matplotlib.pyplot as plt\n",
    "import numpy as np\n",
    "\n",
    "A = np.load('./results/lstm/training_losses2_2020-04-04.npy')\n",
    "B = np.load('./results/lstm/training_scores2_2020-04-04.npy')\n",
    "\n",
    "#C = np.load('./results/lstm/test_loss_2020-03-28.npy')\n",
    "#D = np.load('./results/lstm/test_score_2020-03-29.npy')\n",
    "fig = plt.figure(figsize=(10, 4))\n",
    "plt.subplot(121)\n",
    "#plt.plot(np.arange(1, epochs + 1), A[:, -1])  # train loss (on epoch end)\n",
    "plt.plot(A.flatten())  # train loss (on epoch end)\n",
    "#plt.plot(np.arange(1, epochs + 1), C)  \n",
    "plt.title(\"model loss\")\n",
    "plt.xlabel('epochs')\n",
    "plt.ylabel('loss')\n",
    "plt.legend(['train','test'], loc=\"upper left\")\n",
    "# 2nd figure\n",
    "plt.subplot(122)\n",
    "#plt.plot(np.arange(1, epochs + 1), B[:, -1])\n",
    "plt.plot(B.flatten())\n",
    "\n",
    "epochs = 100\n",
    "#plt.plot(D) # train accuracy (on epoch end)\n",
    "plt.title(\"training scores\")\n",
    "plt.xlabel('epochs')\n",
    "plt.ylabel('accuracy')\n",
    "plt.legend(['train', 'test'], loc=\"upper left\")\n",
    "plt.show()"
   ],
   "metadata": {
    "collapsed": false,
    "pycharm": {
     "name": "#%%\n",
     "is_executing": false
    }
   }
  },
  {
   "cell_type": "code",
   "execution_count": 3,
   "outputs": [
    {
     "name": "stdout",
     "text": [
      "[0.19069413 0.25553013 0.27002288 0.33790999 0.32951945 0.39740656\n",
      " 0.39588101 0.41952708 0.40732265 0.45842868 0.43935927 0.41342487\n",
      " 0.43554539 0.44088482 0.4546148  0.44393593 0.44393593 0.46147979\n",
      " 0.4546148  0.46224256 0.4546148  0.47368421 0.4576659  0.45385202\n",
      " 0.45614035 0.45614035 0.42715484 0.44241037 0.43478261 0.44393593\n",
      " 0.43707094 0.4446987  0.46071701 0.41800153 0.42562929 0.46834477\n",
      " 0.45995423 0.43096873 0.43401983 0.46071701]\n"
     ],
     "output_type": "stream"
    }
   ],
   "source": [
    "print(D)\n"
   ],
   "metadata": {
    "collapsed": false,
    "pycharm": {
     "name": "#%%\n",
     "is_executing": false
    }
   }
  }
 ],
 "metadata": {
  "kernelspec": {
   "display_name": "Python 3",
   "language": "python",
   "name": "python3"
  },
  "language_info": {
   "codemirror_mode": {
    "name": "ipython",
    "version": 3
   },
   "file_extension": ".py",
   "mimetype": "text/x-python",
   "name": "python",
   "nbconvert_exporter": "python",
   "pygments_lexer": "ipython3",
   "version": "3.7.6"
  },
  "pycharm": {
   "stem_cell": {
    "cell_type": "raw",
    "source": [],
    "metadata": {
     "collapsed": false
    }
   }
  }
 },
 "nbformat": 4,
 "nbformat_minor": 1
}